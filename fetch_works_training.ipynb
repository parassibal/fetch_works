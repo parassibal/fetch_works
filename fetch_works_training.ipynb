{
  "nbformat": 4,
  "nbformat_minor": 0,
  "metadata": {
    "colab": {
      "provenance": []
    },
    "kernelspec": {
      "name": "python3",
      "display_name": "Python 3"
    },
    "language_info": {
      "name": "python"
    }
  },
  "cells": [
    {
      "cell_type": "code",
      "execution_count": 303,
      "metadata": {
        "id": "sQQdKmv92FCW"
      },
      "outputs": [],
      "source": [
        "import pandas as pd\n",
        "import numpy as np\n",
        "import tensorflow as tf\n",
        "from torch.autograd import Variable"
      ]
    },
    {
      "cell_type": "code",
      "source": [
        "df = pd.read_csv(\"data_daily.csv\")\n",
        "df.head()"
      ],
      "metadata": {
        "colab": {
          "base_uri": "https://localhost:8080/",
          "height": 206
        },
        "id": "Q6jiOxkB2LkO",
        "outputId": "154579d1-4131-4a96-d277-3309e4b9df2c"
      },
      "execution_count": 304,
      "outputs": [
        {
          "output_type": "execute_result",
          "data": {
            "text/plain": [
              "   # Date  Receipt_Count\n",
              "0  1/1/21        7564766\n",
              "1  1/2/21        7455524\n",
              "2  1/3/21        7095414\n",
              "3  1/4/21        7666163\n",
              "4  1/5/21        7771289"
            ],
            "text/html": [
              "\n",
              "  <div id=\"df-ece82f66-8f19-4dc2-a7d5-c0c6cbd0f3ad\" class=\"colab-df-container\">\n",
              "    <div>\n",
              "<style scoped>\n",
              "    .dataframe tbody tr th:only-of-type {\n",
              "        vertical-align: middle;\n",
              "    }\n",
              "\n",
              "    .dataframe tbody tr th {\n",
              "        vertical-align: top;\n",
              "    }\n",
              "\n",
              "    .dataframe thead th {\n",
              "        text-align: right;\n",
              "    }\n",
              "</style>\n",
              "<table border=\"1\" class=\"dataframe\">\n",
              "  <thead>\n",
              "    <tr style=\"text-align: right;\">\n",
              "      <th></th>\n",
              "      <th># Date</th>\n",
              "      <th>Receipt_Count</th>\n",
              "    </tr>\n",
              "  </thead>\n",
              "  <tbody>\n",
              "    <tr>\n",
              "      <th>0</th>\n",
              "      <td>1/1/21</td>\n",
              "      <td>7564766</td>\n",
              "    </tr>\n",
              "    <tr>\n",
              "      <th>1</th>\n",
              "      <td>1/2/21</td>\n",
              "      <td>7455524</td>\n",
              "    </tr>\n",
              "    <tr>\n",
              "      <th>2</th>\n",
              "      <td>1/3/21</td>\n",
              "      <td>7095414</td>\n",
              "    </tr>\n",
              "    <tr>\n",
              "      <th>3</th>\n",
              "      <td>1/4/21</td>\n",
              "      <td>7666163</td>\n",
              "    </tr>\n",
              "    <tr>\n",
              "      <th>4</th>\n",
              "      <td>1/5/21</td>\n",
              "      <td>7771289</td>\n",
              "    </tr>\n",
              "  </tbody>\n",
              "</table>\n",
              "</div>\n",
              "    <div class=\"colab-df-buttons\">\n",
              "\n",
              "  <div class=\"colab-df-container\">\n",
              "    <button class=\"colab-df-convert\" onclick=\"convertToInteractive('df-ece82f66-8f19-4dc2-a7d5-c0c6cbd0f3ad')\"\n",
              "            title=\"Convert this dataframe to an interactive table.\"\n",
              "            style=\"display:none;\">\n",
              "\n",
              "  <svg xmlns=\"http://www.w3.org/2000/svg\" height=\"24px\" viewBox=\"0 -960 960 960\">\n",
              "    <path d=\"M120-120v-720h720v720H120Zm60-500h600v-160H180v160Zm220 220h160v-160H400v160Zm0 220h160v-160H400v160ZM180-400h160v-160H180v160Zm440 0h160v-160H620v160ZM180-180h160v-160H180v160Zm440 0h160v-160H620v160Z\"/>\n",
              "  </svg>\n",
              "    </button>\n",
              "\n",
              "  <style>\n",
              "    .colab-df-container {\n",
              "      display:flex;\n",
              "      gap: 12px;\n",
              "    }\n",
              "\n",
              "    .colab-df-convert {\n",
              "      background-color: #E8F0FE;\n",
              "      border: none;\n",
              "      border-radius: 50%;\n",
              "      cursor: pointer;\n",
              "      display: none;\n",
              "      fill: #1967D2;\n",
              "      height: 32px;\n",
              "      padding: 0 0 0 0;\n",
              "      width: 32px;\n",
              "    }\n",
              "\n",
              "    .colab-df-convert:hover {\n",
              "      background-color: #E2EBFA;\n",
              "      box-shadow: 0px 1px 2px rgba(60, 64, 67, 0.3), 0px 1px 3px 1px rgba(60, 64, 67, 0.15);\n",
              "      fill: #174EA6;\n",
              "    }\n",
              "\n",
              "    .colab-df-buttons div {\n",
              "      margin-bottom: 4px;\n",
              "    }\n",
              "\n",
              "    [theme=dark] .colab-df-convert {\n",
              "      background-color: #3B4455;\n",
              "      fill: #D2E3FC;\n",
              "    }\n",
              "\n",
              "    [theme=dark] .colab-df-convert:hover {\n",
              "      background-color: #434B5C;\n",
              "      box-shadow: 0px 1px 3px 1px rgba(0, 0, 0, 0.15);\n",
              "      filter: drop-shadow(0px 1px 2px rgba(0, 0, 0, 0.3));\n",
              "      fill: #FFFFFF;\n",
              "    }\n",
              "  </style>\n",
              "\n",
              "    <script>\n",
              "      const buttonEl =\n",
              "        document.querySelector('#df-ece82f66-8f19-4dc2-a7d5-c0c6cbd0f3ad button.colab-df-convert');\n",
              "      buttonEl.style.display =\n",
              "        google.colab.kernel.accessAllowed ? 'block' : 'none';\n",
              "\n",
              "      async function convertToInteractive(key) {\n",
              "        const element = document.querySelector('#df-ece82f66-8f19-4dc2-a7d5-c0c6cbd0f3ad');\n",
              "        const dataTable =\n",
              "          await google.colab.kernel.invokeFunction('convertToInteractive',\n",
              "                                                    [key], {});\n",
              "        if (!dataTable) return;\n",
              "\n",
              "        const docLinkHtml = 'Like what you see? Visit the ' +\n",
              "          '<a target=\"_blank\" href=https://colab.research.google.com/notebooks/data_table.ipynb>data table notebook</a>'\n",
              "          + ' to learn more about interactive tables.';\n",
              "        element.innerHTML = '';\n",
              "        dataTable['output_type'] = 'display_data';\n",
              "        await google.colab.output.renderOutput(dataTable, element);\n",
              "        const docLink = document.createElement('div');\n",
              "        docLink.innerHTML = docLinkHtml;\n",
              "        element.appendChild(docLink);\n",
              "      }\n",
              "    </script>\n",
              "  </div>\n",
              "\n",
              "\n",
              "<div id=\"df-6d9f7ee5-c595-46fa-88ef-2f0bc7cf2716\">\n",
              "  <button class=\"colab-df-quickchart\" onclick=\"quickchart('df-6d9f7ee5-c595-46fa-88ef-2f0bc7cf2716')\"\n",
              "            title=\"Suggest charts.\"\n",
              "            style=\"display:none;\">\n",
              "\n",
              "<svg xmlns=\"http://www.w3.org/2000/svg\" height=\"24px\"viewBox=\"0 0 24 24\"\n",
              "     width=\"24px\">\n",
              "    <g>\n",
              "        <path d=\"M19 3H5c-1.1 0-2 .9-2 2v14c0 1.1.9 2 2 2h14c1.1 0 2-.9 2-2V5c0-1.1-.9-2-2-2zM9 17H7v-7h2v7zm4 0h-2V7h2v10zm4 0h-2v-4h2v4z\"/>\n",
              "    </g>\n",
              "</svg>\n",
              "  </button>\n",
              "\n",
              "<style>\n",
              "  .colab-df-quickchart {\n",
              "      --bg-color: #E8F0FE;\n",
              "      --fill-color: #1967D2;\n",
              "      --hover-bg-color: #E2EBFA;\n",
              "      --hover-fill-color: #174EA6;\n",
              "      --disabled-fill-color: #AAA;\n",
              "      --disabled-bg-color: #DDD;\n",
              "  }\n",
              "\n",
              "  [theme=dark] .colab-df-quickchart {\n",
              "      --bg-color: #3B4455;\n",
              "      --fill-color: #D2E3FC;\n",
              "      --hover-bg-color: #434B5C;\n",
              "      --hover-fill-color: #FFFFFF;\n",
              "      --disabled-bg-color: #3B4455;\n",
              "      --disabled-fill-color: #666;\n",
              "  }\n",
              "\n",
              "  .colab-df-quickchart {\n",
              "    background-color: var(--bg-color);\n",
              "    border: none;\n",
              "    border-radius: 50%;\n",
              "    cursor: pointer;\n",
              "    display: none;\n",
              "    fill: var(--fill-color);\n",
              "    height: 32px;\n",
              "    padding: 0;\n",
              "    width: 32px;\n",
              "  }\n",
              "\n",
              "  .colab-df-quickchart:hover {\n",
              "    background-color: var(--hover-bg-color);\n",
              "    box-shadow: 0 1px 2px rgba(60, 64, 67, 0.3), 0 1px 3px 1px rgba(60, 64, 67, 0.15);\n",
              "    fill: var(--button-hover-fill-color);\n",
              "  }\n",
              "\n",
              "  .colab-df-quickchart-complete:disabled,\n",
              "  .colab-df-quickchart-complete:disabled:hover {\n",
              "    background-color: var(--disabled-bg-color);\n",
              "    fill: var(--disabled-fill-color);\n",
              "    box-shadow: none;\n",
              "  }\n",
              "\n",
              "  .colab-df-spinner {\n",
              "    border: 2px solid var(--fill-color);\n",
              "    border-color: transparent;\n",
              "    border-bottom-color: var(--fill-color);\n",
              "    animation:\n",
              "      spin 1s steps(1) infinite;\n",
              "  }\n",
              "\n",
              "  @keyframes spin {\n",
              "    0% {\n",
              "      border-color: transparent;\n",
              "      border-bottom-color: var(--fill-color);\n",
              "      border-left-color: var(--fill-color);\n",
              "    }\n",
              "    20% {\n",
              "      border-color: transparent;\n",
              "      border-left-color: var(--fill-color);\n",
              "      border-top-color: var(--fill-color);\n",
              "    }\n",
              "    30% {\n",
              "      border-color: transparent;\n",
              "      border-left-color: var(--fill-color);\n",
              "      border-top-color: var(--fill-color);\n",
              "      border-right-color: var(--fill-color);\n",
              "    }\n",
              "    40% {\n",
              "      border-color: transparent;\n",
              "      border-right-color: var(--fill-color);\n",
              "      border-top-color: var(--fill-color);\n",
              "    }\n",
              "    60% {\n",
              "      border-color: transparent;\n",
              "      border-right-color: var(--fill-color);\n",
              "    }\n",
              "    80% {\n",
              "      border-color: transparent;\n",
              "      border-right-color: var(--fill-color);\n",
              "      border-bottom-color: var(--fill-color);\n",
              "    }\n",
              "    90% {\n",
              "      border-color: transparent;\n",
              "      border-bottom-color: var(--fill-color);\n",
              "    }\n",
              "  }\n",
              "</style>\n",
              "\n",
              "  <script>\n",
              "    async function quickchart(key) {\n",
              "      const quickchartButtonEl =\n",
              "        document.querySelector('#' + key + ' button');\n",
              "      quickchartButtonEl.disabled = true;  // To prevent multiple clicks.\n",
              "      quickchartButtonEl.classList.add('colab-df-spinner');\n",
              "      try {\n",
              "        const charts = await google.colab.kernel.invokeFunction(\n",
              "            'suggestCharts', [key], {});\n",
              "      } catch (error) {\n",
              "        console.error('Error during call to suggestCharts:', error);\n",
              "      }\n",
              "      quickchartButtonEl.classList.remove('colab-df-spinner');\n",
              "      quickchartButtonEl.classList.add('colab-df-quickchart-complete');\n",
              "    }\n",
              "    (() => {\n",
              "      let quickchartButtonEl =\n",
              "        document.querySelector('#df-6d9f7ee5-c595-46fa-88ef-2f0bc7cf2716 button');\n",
              "      quickchartButtonEl.style.display =\n",
              "        google.colab.kernel.accessAllowed ? 'block' : 'none';\n",
              "    })();\n",
              "  </script>\n",
              "</div>\n",
              "    </div>\n",
              "  </div>\n"
            ]
          },
          "metadata": {},
          "execution_count": 304
        }
      ]
    },
    {
      "cell_type": "code",
      "source": [
        "df.shape"
      ],
      "metadata": {
        "colab": {
          "base_uri": "https://localhost:8080/"
        },
        "id": "Yvu0Pglj_55P",
        "outputId": "ebce9347-6494-4541-8c8c-8de59cc7bd50"
      },
      "execution_count": 305,
      "outputs": [
        {
          "output_type": "execute_result",
          "data": {
            "text/plain": [
              "(365, 2)"
            ]
          },
          "metadata": {},
          "execution_count": 305
        }
      ]
    },
    {
      "cell_type": "code",
      "source": [
        "df.describe"
      ],
      "metadata": {
        "colab": {
          "base_uri": "https://localhost:8080/"
        },
        "id": "OC4ERqbB_51x",
        "outputId": "79b32380-d7e3-410c-96b7-e54cc8d71a8d"
      },
      "execution_count": 306,
      "outputs": [
        {
          "output_type": "execute_result",
          "data": {
            "text/plain": [
              "<bound method NDFrame.describe of        # Date  Receipt_Count\n",
              "0      1/1/21        7564766\n",
              "1      1/2/21        7455524\n",
              "2      1/3/21        7095414\n",
              "3      1/4/21        7666163\n",
              "4      1/5/21        7771289\n",
              "..        ...            ...\n",
              "360  12/27/21       10350408\n",
              "361  12/28/21       10219445\n",
              "362  12/29/21       10313337\n",
              "363  12/30/21       10310644\n",
              "364  12/31/21       10211187\n",
              "\n",
              "[365 rows x 2 columns]>"
            ]
          },
          "metadata": {},
          "execution_count": 306
        }
      ]
    },
    {
      "cell_type": "code",
      "source": [
        "from datetime import datetime\n",
        "df['# Date'] = pd.to_datetime(df['# Date'])"
      ],
      "metadata": {
        "id": "KPlAOyfg_5y-"
      },
      "execution_count": 307,
      "outputs": []
    },
    {
      "cell_type": "code",
      "source": [
        "df.head()"
      ],
      "metadata": {
        "colab": {
          "base_uri": "https://localhost:8080/",
          "height": 206
        },
        "id": "ajJ27-nK_5vW",
        "outputId": "438b9feb-deb6-41ea-ee3a-fddd24ebcc0a"
      },
      "execution_count": 308,
      "outputs": [
        {
          "output_type": "execute_result",
          "data": {
            "text/plain": [
              "      # Date  Receipt_Count\n",
              "0 2021-01-01        7564766\n",
              "1 2021-01-02        7455524\n",
              "2 2021-01-03        7095414\n",
              "3 2021-01-04        7666163\n",
              "4 2021-01-05        7771289"
            ],
            "text/html": [
              "\n",
              "  <div id=\"df-f83cb2f2-2bb5-4694-90c3-c2e718c33af1\" class=\"colab-df-container\">\n",
              "    <div>\n",
              "<style scoped>\n",
              "    .dataframe tbody tr th:only-of-type {\n",
              "        vertical-align: middle;\n",
              "    }\n",
              "\n",
              "    .dataframe tbody tr th {\n",
              "        vertical-align: top;\n",
              "    }\n",
              "\n",
              "    .dataframe thead th {\n",
              "        text-align: right;\n",
              "    }\n",
              "</style>\n",
              "<table border=\"1\" class=\"dataframe\">\n",
              "  <thead>\n",
              "    <tr style=\"text-align: right;\">\n",
              "      <th></th>\n",
              "      <th># Date</th>\n",
              "      <th>Receipt_Count</th>\n",
              "    </tr>\n",
              "  </thead>\n",
              "  <tbody>\n",
              "    <tr>\n",
              "      <th>0</th>\n",
              "      <td>2021-01-01</td>\n",
              "      <td>7564766</td>\n",
              "    </tr>\n",
              "    <tr>\n",
              "      <th>1</th>\n",
              "      <td>2021-01-02</td>\n",
              "      <td>7455524</td>\n",
              "    </tr>\n",
              "    <tr>\n",
              "      <th>2</th>\n",
              "      <td>2021-01-03</td>\n",
              "      <td>7095414</td>\n",
              "    </tr>\n",
              "    <tr>\n",
              "      <th>3</th>\n",
              "      <td>2021-01-04</td>\n",
              "      <td>7666163</td>\n",
              "    </tr>\n",
              "    <tr>\n",
              "      <th>4</th>\n",
              "      <td>2021-01-05</td>\n",
              "      <td>7771289</td>\n",
              "    </tr>\n",
              "  </tbody>\n",
              "</table>\n",
              "</div>\n",
              "    <div class=\"colab-df-buttons\">\n",
              "\n",
              "  <div class=\"colab-df-container\">\n",
              "    <button class=\"colab-df-convert\" onclick=\"convertToInteractive('df-f83cb2f2-2bb5-4694-90c3-c2e718c33af1')\"\n",
              "            title=\"Convert this dataframe to an interactive table.\"\n",
              "            style=\"display:none;\">\n",
              "\n",
              "  <svg xmlns=\"http://www.w3.org/2000/svg\" height=\"24px\" viewBox=\"0 -960 960 960\">\n",
              "    <path d=\"M120-120v-720h720v720H120Zm60-500h600v-160H180v160Zm220 220h160v-160H400v160Zm0 220h160v-160H400v160ZM180-400h160v-160H180v160Zm440 0h160v-160H620v160ZM180-180h160v-160H180v160Zm440 0h160v-160H620v160Z\"/>\n",
              "  </svg>\n",
              "    </button>\n",
              "\n",
              "  <style>\n",
              "    .colab-df-container {\n",
              "      display:flex;\n",
              "      gap: 12px;\n",
              "    }\n",
              "\n",
              "    .colab-df-convert {\n",
              "      background-color: #E8F0FE;\n",
              "      border: none;\n",
              "      border-radius: 50%;\n",
              "      cursor: pointer;\n",
              "      display: none;\n",
              "      fill: #1967D2;\n",
              "      height: 32px;\n",
              "      padding: 0 0 0 0;\n",
              "      width: 32px;\n",
              "    }\n",
              "\n",
              "    .colab-df-convert:hover {\n",
              "      background-color: #E2EBFA;\n",
              "      box-shadow: 0px 1px 2px rgba(60, 64, 67, 0.3), 0px 1px 3px 1px rgba(60, 64, 67, 0.15);\n",
              "      fill: #174EA6;\n",
              "    }\n",
              "\n",
              "    .colab-df-buttons div {\n",
              "      margin-bottom: 4px;\n",
              "    }\n",
              "\n",
              "    [theme=dark] .colab-df-convert {\n",
              "      background-color: #3B4455;\n",
              "      fill: #D2E3FC;\n",
              "    }\n",
              "\n",
              "    [theme=dark] .colab-df-convert:hover {\n",
              "      background-color: #434B5C;\n",
              "      box-shadow: 0px 1px 3px 1px rgba(0, 0, 0, 0.15);\n",
              "      filter: drop-shadow(0px 1px 2px rgba(0, 0, 0, 0.3));\n",
              "      fill: #FFFFFF;\n",
              "    }\n",
              "  </style>\n",
              "\n",
              "    <script>\n",
              "      const buttonEl =\n",
              "        document.querySelector('#df-f83cb2f2-2bb5-4694-90c3-c2e718c33af1 button.colab-df-convert');\n",
              "      buttonEl.style.display =\n",
              "        google.colab.kernel.accessAllowed ? 'block' : 'none';\n",
              "\n",
              "      async function convertToInteractive(key) {\n",
              "        const element = document.querySelector('#df-f83cb2f2-2bb5-4694-90c3-c2e718c33af1');\n",
              "        const dataTable =\n",
              "          await google.colab.kernel.invokeFunction('convertToInteractive',\n",
              "                                                    [key], {});\n",
              "        if (!dataTable) return;\n",
              "\n",
              "        const docLinkHtml = 'Like what you see? Visit the ' +\n",
              "          '<a target=\"_blank\" href=https://colab.research.google.com/notebooks/data_table.ipynb>data table notebook</a>'\n",
              "          + ' to learn more about interactive tables.';\n",
              "        element.innerHTML = '';\n",
              "        dataTable['output_type'] = 'display_data';\n",
              "        await google.colab.output.renderOutput(dataTable, element);\n",
              "        const docLink = document.createElement('div');\n",
              "        docLink.innerHTML = docLinkHtml;\n",
              "        element.appendChild(docLink);\n",
              "      }\n",
              "    </script>\n",
              "  </div>\n",
              "\n",
              "\n",
              "<div id=\"df-6915e9c7-8ac6-43ba-a4e1-0d80357d3b26\">\n",
              "  <button class=\"colab-df-quickchart\" onclick=\"quickchart('df-6915e9c7-8ac6-43ba-a4e1-0d80357d3b26')\"\n",
              "            title=\"Suggest charts.\"\n",
              "            style=\"display:none;\">\n",
              "\n",
              "<svg xmlns=\"http://www.w3.org/2000/svg\" height=\"24px\"viewBox=\"0 0 24 24\"\n",
              "     width=\"24px\">\n",
              "    <g>\n",
              "        <path d=\"M19 3H5c-1.1 0-2 .9-2 2v14c0 1.1.9 2 2 2h14c1.1 0 2-.9 2-2V5c0-1.1-.9-2-2-2zM9 17H7v-7h2v7zm4 0h-2V7h2v10zm4 0h-2v-4h2v4z\"/>\n",
              "    </g>\n",
              "</svg>\n",
              "  </button>\n",
              "\n",
              "<style>\n",
              "  .colab-df-quickchart {\n",
              "      --bg-color: #E8F0FE;\n",
              "      --fill-color: #1967D2;\n",
              "      --hover-bg-color: #E2EBFA;\n",
              "      --hover-fill-color: #174EA6;\n",
              "      --disabled-fill-color: #AAA;\n",
              "      --disabled-bg-color: #DDD;\n",
              "  }\n",
              "\n",
              "  [theme=dark] .colab-df-quickchart {\n",
              "      --bg-color: #3B4455;\n",
              "      --fill-color: #D2E3FC;\n",
              "      --hover-bg-color: #434B5C;\n",
              "      --hover-fill-color: #FFFFFF;\n",
              "      --disabled-bg-color: #3B4455;\n",
              "      --disabled-fill-color: #666;\n",
              "  }\n",
              "\n",
              "  .colab-df-quickchart {\n",
              "    background-color: var(--bg-color);\n",
              "    border: none;\n",
              "    border-radius: 50%;\n",
              "    cursor: pointer;\n",
              "    display: none;\n",
              "    fill: var(--fill-color);\n",
              "    height: 32px;\n",
              "    padding: 0;\n",
              "    width: 32px;\n",
              "  }\n",
              "\n",
              "  .colab-df-quickchart:hover {\n",
              "    background-color: var(--hover-bg-color);\n",
              "    box-shadow: 0 1px 2px rgba(60, 64, 67, 0.3), 0 1px 3px 1px rgba(60, 64, 67, 0.15);\n",
              "    fill: var(--button-hover-fill-color);\n",
              "  }\n",
              "\n",
              "  .colab-df-quickchart-complete:disabled,\n",
              "  .colab-df-quickchart-complete:disabled:hover {\n",
              "    background-color: var(--disabled-bg-color);\n",
              "    fill: var(--disabled-fill-color);\n",
              "    box-shadow: none;\n",
              "  }\n",
              "\n",
              "  .colab-df-spinner {\n",
              "    border: 2px solid var(--fill-color);\n",
              "    border-color: transparent;\n",
              "    border-bottom-color: var(--fill-color);\n",
              "    animation:\n",
              "      spin 1s steps(1) infinite;\n",
              "  }\n",
              "\n",
              "  @keyframes spin {\n",
              "    0% {\n",
              "      border-color: transparent;\n",
              "      border-bottom-color: var(--fill-color);\n",
              "      border-left-color: var(--fill-color);\n",
              "    }\n",
              "    20% {\n",
              "      border-color: transparent;\n",
              "      border-left-color: var(--fill-color);\n",
              "      border-top-color: var(--fill-color);\n",
              "    }\n",
              "    30% {\n",
              "      border-color: transparent;\n",
              "      border-left-color: var(--fill-color);\n",
              "      border-top-color: var(--fill-color);\n",
              "      border-right-color: var(--fill-color);\n",
              "    }\n",
              "    40% {\n",
              "      border-color: transparent;\n",
              "      border-right-color: var(--fill-color);\n",
              "      border-top-color: var(--fill-color);\n",
              "    }\n",
              "    60% {\n",
              "      border-color: transparent;\n",
              "      border-right-color: var(--fill-color);\n",
              "    }\n",
              "    80% {\n",
              "      border-color: transparent;\n",
              "      border-right-color: var(--fill-color);\n",
              "      border-bottom-color: var(--fill-color);\n",
              "    }\n",
              "    90% {\n",
              "      border-color: transparent;\n",
              "      border-bottom-color: var(--fill-color);\n",
              "    }\n",
              "  }\n",
              "</style>\n",
              "\n",
              "  <script>\n",
              "    async function quickchart(key) {\n",
              "      const quickchartButtonEl =\n",
              "        document.querySelector('#' + key + ' button');\n",
              "      quickchartButtonEl.disabled = true;  // To prevent multiple clicks.\n",
              "      quickchartButtonEl.classList.add('colab-df-spinner');\n",
              "      try {\n",
              "        const charts = await google.colab.kernel.invokeFunction(\n",
              "            'suggestCharts', [key], {});\n",
              "      } catch (error) {\n",
              "        console.error('Error during call to suggestCharts:', error);\n",
              "      }\n",
              "      quickchartButtonEl.classList.remove('colab-df-spinner');\n",
              "      quickchartButtonEl.classList.add('colab-df-quickchart-complete');\n",
              "    }\n",
              "    (() => {\n",
              "      let quickchartButtonEl =\n",
              "        document.querySelector('#df-6915e9c7-8ac6-43ba-a4e1-0d80357d3b26 button');\n",
              "      quickchartButtonEl.style.display =\n",
              "        google.colab.kernel.accessAllowed ? 'block' : 'none';\n",
              "    })();\n",
              "  </script>\n",
              "</div>\n",
              "    </div>\n",
              "  </div>\n"
            ]
          },
          "metadata": {},
          "execution_count": 308
        }
      ]
    },
    {
      "cell_type": "code",
      "source": [
        "df.dtypes"
      ],
      "metadata": {
        "colab": {
          "base_uri": "https://localhost:8080/"
        },
        "id": "uDm3efPk_5sO",
        "outputId": "a5cfce6d-6987-4875-ecc3-257d35aaec2e"
      },
      "execution_count": 309,
      "outputs": [
        {
          "output_type": "execute_result",
          "data": {
            "text/plain": [
              "# Date           datetime64[ns]\n",
              "Receipt_Count             int64\n",
              "dtype: object"
            ]
          },
          "metadata": {},
          "execution_count": 309
        }
      ]
    },
    {
      "cell_type": "code",
      "source": [
        "import matplotlib.pyplot as plt\n",
        "import seaborn as sns"
      ],
      "metadata": {
        "id": "jdZu3Td2_5pb"
      },
      "execution_count": 310,
      "outputs": []
    },
    {
      "cell_type": "code",
      "source": [
        "plt.figure(figsize=(15, 10))\n",
        "plt.plot(df['# Date'], df['Receipt_Count'], color='green')\n",
        "plt.xlabel('Date')\n",
        "plt.ylabel('Receipt_Count')\n",
        "plt.title('Receipt Count in 2021')\n",
        "plt.legend()\n",
        "plt.show()"
      ],
      "metadata": {
        "colab": {
          "base_uri": "https://localhost:8080/",
          "height": 645
        },
        "id": "pQKZ3mwJ_5md",
        "outputId": "f8cb2332-d4dc-405e-b0a1-3e574aa30dcd"
      },
      "execution_count": 311,
      "outputs": [
        {
          "output_type": "stream",
          "name": "stderr",
          "text": [
            "WARNING:matplotlib.legend:No artists with labels found to put in legend.  Note that artists whose label start with an underscore are ignored when legend() is called with no argument.\n"
          ]
        },
        {
          "output_type": "display_data",
          "data": {
            "text/plain": [
              "<Figure size 1500x1000 with 1 Axes>"
            ],
            "image/png": "[encoded data removed]"
          },
          "metadata": {}
        }
      ]
    },
    {
      "cell_type": "code",
      "source": [
        "df.head()"
      ],
      "metadata": {
        "colab": {
          "base_uri": "https://localhost:8080/",
          "height": 206
        },
        "id": "99MXd7kPBHLw",
        "outputId": "47c96ff5-4327-445f-887e-3324eb6407d1"
      },
      "execution_count": 312,
      "outputs": [
        {
          "output_type": "execute_result",
          "data": {
            "text/plain": [
              "      # Date  Receipt_Count\n",
              "0 2021-01-01        7564766\n",
              "1 2021-01-02        7455524\n",
              "2 2021-01-03        7095414\n",
              "3 2021-01-04        7666163\n",
              "4 2021-01-05        7771289"
            ],
            "text/html": [
              "\n",
              "  <div id=\"df-ea8a9844-b5d7-43cb-8164-181db4c55693\" class=\"colab-df-container\">\n",
              "    <div>\n",
              "<style scoped>\n",
              "    .dataframe tbody tr th:only-of-type {\n",
              "        vertical-align: middle;\n",
              "    }\n",
              "\n",
              "    .dataframe tbody tr th {\n",
              "        vertical-align: top;\n",
              "    }\n",
              "\n",
              "    .dataframe thead th {\n",
              "        text-align: right;\n",
              "    }\n",
              "</style>\n",
              "<table border=\"1\" class=\"dataframe\">\n",
              "  <thead>\n",
              "    <tr style=\"text-align: right;\">\n",
              "      <th></th>\n",
              "      <th># Date</th>\n",
              "      <th>Receipt_Count</th>\n",
              "    </tr>\n",
              "  </thead>\n",
              "  <tbody>\n",
              "    <tr>\n",
              "      <th>0</th>\n",
              "      <td>2021-01-01</td>\n",
              "      <td>7564766</td>\n",
              "    </tr>\n",
              "    <tr>\n",
              "      <th>1</th>\n",
              "      <td>2021-01-02</td>\n",
              "      <td>7455524</td>\n",
              "    </tr>\n",
              "    <tr>\n",
              "      <th>2</th>\n",
              "      <td>2021-01-03</td>\n",
              "      <td>7095414</td>\n",
              "    </tr>\n",
              "    <tr>\n",
              "      <th>3</th>\n",
              "      <td>2021-01-04</td>\n",
              "      <td>7666163</td>\n",
              "    </tr>\n",
              "    <tr>\n",
              "      <th>4</th>\n",
              "      <td>2021-01-05</td>\n",
              "      <td>7771289</td>\n",
              "    </tr>\n",
              "  </tbody>\n",
              "</table>\n",
              "</div>\n",
              "    <div class=\"colab-df-buttons\">\n",
              "\n",
              "  <div class=\"colab-df-container\">\n",
              "    <button class=\"colab-df-convert\" onclick=\"convertToInteractive('df-ea8a9844-b5d7-43cb-8164-181db4c55693')\"\n",
              "            title=\"Convert this dataframe to an interactive table.\"\n",
              "            style=\"display:none;\">\n",
              "\n",
              "  <svg xmlns=\"http://www.w3.org/2000/svg\" height=\"24px\" viewBox=\"0 -960 960 960\">\n",
              "    <path d=\"M120-120v-720h720v720H120Zm60-500h600v-160H180v160Zm220 220h160v-160H400v160Zm0 220h160v-160H400v160ZM180-400h160v-160H180v160Zm440 0h160v-160H620v160ZM180-180h160v-160H180v160Zm440 0h160v-160H620v160Z\"/>\n",
              "  </svg>\n",
              "    </button>\n",
              "\n",
              "  <style>\n",
              "    .colab-df-container {\n",
              "      display:flex;\n",
              "      gap: 12px;\n",
              "    }\n",
              "\n",
              "    .colab-df-convert {\n",
              "      background-color: #E8F0FE;\n",
              "      border: none;\n",
              "      border-radius: 50%;\n",
              "      cursor: pointer;\n",
              "      display: none;\n",
              "      fill: #1967D2;\n",
              "      height: 32px;\n",
              "      padding: 0 0 0 0;\n",
              "      width: 32px;\n",
              "    }\n",
              "\n",
              "    .colab-df-convert:hover {\n",
              "      background-color: #E2EBFA;\n",
              "      box-shadow: 0px 1px 2px rgba(60, 64, 67, 0.3), 0px 1px 3px 1px rgba(60, 64, 67, 0.15);\n",
              "      fill: #174EA6;\n",
              "    }\n",
              "\n",
              "    .colab-df-buttons div {\n",
              "      margin-bottom: 4px;\n",
              "    }\n",
              "\n",
              "    [theme=dark] .colab-df-convert {\n",
              "      background-color: #3B4455;\n",
              "      fill: #D2E3FC;\n",
              "    }\n",
              "\n",
              "    [theme=dark] .colab-df-convert:hover {\n",
              "      background-color: #434B5C;\n",
              "      box-shadow: 0px 1px 3px 1px rgba(0, 0, 0, 0.15);\n",
              "      filter: drop-shadow(0px 1px 2px rgba(0, 0, 0, 0.3));\n",
              "      fill: #FFFFFF;\n",
              "    }\n",
              "  </style>\n",
              "\n",
              "    <script>\n",
              "      const buttonEl =\n",
              "        document.querySelector('#df-ea8a9844-b5d7-43cb-8164-181db4c55693 button.colab-df-convert');\n",
              "      buttonEl.style.display =\n",
              "        google.colab.kernel.accessAllowed ? 'block' : 'none';\n",
              "\n",
              "      async function convertToInteractive(key) {\n",
              "        const element = document.querySelector('#df-ea8a9844-b5d7-43cb-8164-181db4c55693');\n",
              "        const dataTable =\n",
              "          await google.colab.kernel.invokeFunction('convertToInteractive',\n",
              "                                                    [key], {});\n",
              "        if (!dataTable) return;\n",
              "\n",
              "        const docLinkHtml = 'Like what you see? Visit the ' +\n",
              "          '<a target=\"_blank\" href=https://colab.research.google.com/notebooks/data_table.ipynb>data table notebook</a>'\n",
              "          + ' to learn more about interactive tables.';\n",
              "        element.innerHTML = '';\n",
              "        dataTable['output_type'] = 'display_data';\n",
              "        await google.colab.output.renderOutput(dataTable, element);\n",
              "        const docLink = document.createElement('div');\n",
              "        docLink.innerHTML = docLinkHtml;\n",
              "        element.appendChild(docLink);\n",
              "      }\n",
              "    </script>\n",
              "  </div>\n",
              "\n",
              "\n",
              "<div id=\"df-7de4d4cb-44b4-4e58-a0da-e24afcc17b1e\">\n",
              "  <button class=\"colab-df-quickchart\" onclick=\"quickchart('df-7de4d4cb-44b4-4e58-a0da-e24afcc17b1e')\"\n",
              "            title=\"Suggest charts.\"\n",
              "            style=\"display:none;\">\n",
              "\n",
              "<svg xmlns=\"http://www.w3.org/2000/svg\" height=\"24px\"viewBox=\"0 0 24 24\"\n",
              "     width=\"24px\">\n",
              "    <g>\n",
              "        <path d=\"M19 3H5c-1.1 0-2 .9-2 2v14c0 1.1.9 2 2 2h14c1.1 0 2-.9 2-2V5c0-1.1-.9-2-2-2zM9 17H7v-7h2v7zm4 0h-2V7h2v10zm4 0h-2v-4h2v4z\"/>\n",
              "    </g>\n",
              "</svg>\n",
              "  </button>\n",
              "\n",
              "<style>\n",
              "  .colab-df-quickchart {\n",
              "      --bg-color: #E8F0FE;\n",
              "      --fill-color: #1967D2;\n",
              "      --hover-bg-color: #E2EBFA;\n",
              "      --hover-fill-color: #174EA6;\n",
              "      --disabled-fill-color: #AAA;\n",
              "      --disabled-bg-color: #DDD;\n",
              "  }\n",
              "\n",
              "  [theme=dark] .colab-df-quickchart {\n",
              "      --bg-color: #3B4455;\n",
              "      --fill-color: #D2E3FC;\n",
              "      --hover-bg-color: #434B5C;\n",
              "      --hover-fill-color: #FFFFFF;\n",
              "      --disabled-bg-color: #3B4455;\n",
              "      --disabled-fill-color: #666;\n",
              "  }\n",
              "\n",
              "  .colab-df-quickchart {\n",
              "    background-color: var(--bg-color);\n",
              "    border: none;\n",
              "    border-radius: 50%;\n",
              "    cursor: pointer;\n",
              "    display: none;\n",
              "    fill: var(--fill-color);\n",
              "    height: 32px;\n",
              "    padding: 0;\n",
              "    width: 32px;\n",
              "  }\n",
              "\n",
              "  .colab-df-quickchart:hover {\n",
              "    background-color: var(--hover-bg-color);\n",
              "    box-shadow: 0 1px 2px rgba(60, 64, 67, 0.3), 0 1px 3px 1px rgba(60, 64, 67, 0.15);\n",
              "    fill: var(--button-hover-fill-color);\n",
              "  }\n",
              "\n",
              "  .colab-df-quickchart-complete:disabled,\n",
              "  .colab-df-quickchart-complete:disabled:hover {\n",
              "    background-color: var(--disabled-bg-color);\n",
              "    fill: var(--disabled-fill-color);\n",
              "    box-shadow: none;\n",
              "  }\n",
              "\n",
              "  .colab-df-spinner {\n",
              "    border: 2px solid var(--fill-color);\n",
              "    border-color: transparent;\n",
              "    border-bottom-color: var(--fill-color);\n",
              "    animation:\n",
              "      spin 1s steps(1) infinite;\n",
              "  }\n",
              "\n",
              "  @keyframes spin {\n",
              "    0% {\n",
              "      border-color: transparent;\n",
              "      border-bottom-color: var(--fill-color);\n",
              "      border-left-color: var(--fill-color);\n",
              "    }\n",
              "    20% {\n",
              "      border-color: transparent;\n",
              "      border-left-color: var(--fill-color);\n",
              "      border-top-color: var(--fill-color);\n",
              "    }\n",
              "    30% {\n",
              "      border-color: transparent;\n",
              "      border-left-color: var(--fill-color);\n",
              "      border-top-color: var(--fill-color);\n",
              "      border-right-color: var(--fill-color);\n",
              "    }\n",
              "    40% {\n",
              "      border-color: transparent;\n",
              "      border-right-color: var(--fill-color);\n",
              "      border-top-color: var(--fill-color);\n",
              "    }\n",
              "    60% {\n",
              "      border-color: transparent;\n",
              "      border-right-color: var(--fill-color);\n",
              "    }\n",
              "    80% {\n",
              "      border-color: transparent;\n",
              "      border-right-color: var(--fill-color);\n",
              "      border-bottom-color: var(--fill-color);\n",
              "    }\n",
              "    90% {\n",
              "      border-color: transparent;\n",
              "      border-bottom-color: var(--fill-color);\n",
              "    }\n",
              "  }\n",
              "</style>\n",
              "\n",
              "  <script>\n",
              "    async function quickchart(key) {\n",
              "      const quickchartButtonEl =\n",
              "        document.querySelector('#' + key + ' button');\n",
              "      quickchartButtonEl.disabled = true;  // To prevent multiple clicks.\n",
              "      quickchartButtonEl.classList.add('colab-df-spinner');\n",
              "      try {\n",
              "        const charts = await google.colab.kernel.invokeFunction(\n",
              "            'suggestCharts', [key], {});\n",
              "      } catch (error) {\n",
              "        console.error('Error during call to suggestCharts:', error);\n",
              "      }\n",
              "      quickchartButtonEl.classList.remove('colab-df-spinner');\n",
              "      quickchartButtonEl.classList.add('colab-df-quickchart-complete');\n",
              "    }\n",
              "    (() => {\n",
              "      let quickchartButtonEl =\n",
              "        document.querySelector('#df-7de4d4cb-44b4-4e58-a0da-e24afcc17b1e button');\n",
              "      quickchartButtonEl.style.display =\n",
              "        google.colab.kernel.accessAllowed ? 'block' : 'none';\n",
              "    })();\n",
              "  </script>\n",
              "</div>\n",
              "    </div>\n",
              "  </div>\n"
            ]
          },
          "metadata": {},
          "execution_count": 312
        }
      ]
    },
    {
      "cell_type": "code",
      "source": [
        "month_dict = dict()\n",
        "for month in range(1,13):\n",
        "    month_dict[month] = 0"
      ],
      "metadata": {
        "id": "pesxmNKO_5gD"
      },
      "execution_count": 313,
      "outputs": []
    },
    {
      "cell_type": "code",
      "source": [
        "month_dict"
      ],
      "metadata": {
        "colab": {
          "base_uri": "https://localhost:8080/"
        },
        "id": "oBGAmOuh_5aF",
        "outputId": "4deb965a-7ca9-4475-a3e3-1e5ae31f77a4"
      },
      "execution_count": 314,
      "outputs": [
        {
          "output_type": "execute_result",
          "data": {
            "text/plain": [
              "{1: 0, 2: 0, 3: 0, 4: 0, 5: 0, 6: 0, 7: 0, 8: 0, 9: 0, 10: 0, 11: 0, 12: 0}"
            ]
          },
          "metadata": {},
          "execution_count": 314
        }
      ]
    },
    {
      "cell_type": "code",
      "source": [
        "df[\"Receipt_Count\"].iloc[0]"
      ],
      "metadata": {
        "colab": {
          "base_uri": "https://localhost:8080/"
        },
        "id": "78_AB887Eq7v",
        "outputId": "51c7fc81-50ae-45f8-a58b-4e3e59fdc9aa"
      },
      "execution_count": 315,
      "outputs": [
        {
          "output_type": "execute_result",
          "data": {
            "text/plain": [
              "7564766"
            ]
          },
          "metadata": {},
          "execution_count": 315
        }
      ]
    },
    {
      "cell_type": "code",
      "source": [
        "iloc_val = 0\n",
        "for date in df[\"# Date\"]:\n",
        "    month = date.month\n",
        "    month_dict[month] += df[\"Receipt_Count\"].iloc[iloc_val]"
      ],
      "metadata": {
        "id": "kSjzTaxuDqpF"
      },
      "execution_count": 316,
      "outputs": []
    },
    {
      "cell_type": "code",
      "source": [
        "month_dict"
      ],
      "metadata": {
        "colab": {
          "base_uri": "https://localhost:8080/"
        },
        "id": "mts0OhPCE_8c",
        "outputId": "cf838dc7-b648-4e33-d572-95535f525e8e"
      },
      "execution_count": 317,
      "outputs": [
        {
          "output_type": "execute_result",
          "data": {
            "text/plain": [
              "{1: 234507746,\n",
              " 2: 211813448,\n",
              " 3: 234507746,\n",
              " 4: 226942980,\n",
              " 5: 234507746,\n",
              " 6: 226942980,\n",
              " 7: 234507746,\n",
              " 8: 234507746,\n",
              " 9: 226942980,\n",
              " 10: 234507746,\n",
              " 11: 226942980,\n",
              " 12: 234507746}"
            ]
          },
          "metadata": {},
          "execution_count": 317
        }
      ]
    },
    {
      "cell_type": "code",
      "source": [
        "month_list = [month for month in month_dict.keys()]\n",
        "month_list"
      ],
      "metadata": {
        "colab": {
          "base_uri": "https://localhost:8080/"
        },
        "id": "Q54k9gr6_5W7",
        "outputId": "e33f7821-1929-4516-fd9a-daf826584a7b"
      },
      "execution_count": 318,
      "outputs": [
        {
          "output_type": "execute_result",
          "data": {
            "text/plain": [
              "[1, 2, 3, 4, 5, 6, 7, 8, 9, 10, 11, 12]"
            ]
          },
          "metadata": {},
          "execution_count": 318
        }
      ]
    },
    {
      "cell_type": "code",
      "source": [
        "receipt_counter = [count for count in month_dict.values()]\n",
        "receipt_counter"
      ],
      "metadata": {
        "colab": {
          "base_uri": "https://localhost:8080/"
        },
        "id": "E0lOzRrtC6Ab",
        "outputId": "7ad77c3a-40f6-4e1f-f1ce-73288fb0631e"
      },
      "execution_count": 319,
      "outputs": [
        {
          "output_type": "execute_result",
          "data": {
            "text/plain": [
              "[234507746,\n",
              " 211813448,\n",
              " 234507746,\n",
              " 226942980,\n",
              " 234507746,\n",
              " 226942980,\n",
              " 234507746,\n",
              " 234507746,\n",
              " 226942980,\n",
              " 234507746,\n",
              " 226942980,\n",
              " 234507746]"
            ]
          },
          "metadata": {},
          "execution_count": 319
        }
      ]
    },
    {
      "cell_type": "code",
      "source": [
        "min_val = min(receipt_counter)\n",
        "max_val = max(receipt_counter)\n",
        "\n",
        "for idx, count in enumerate(receipt_counter):\n",
        "    receipt_counter[idx] = (receipt_counter[idx] - min_val) / (max_val - min_val)"
      ],
      "metadata": {
        "id": "m5i1ppSERtF-"
      },
      "execution_count": 320,
      "outputs": []
    },
    {
      "cell_type": "code",
      "source": [
        "receipt_counter"
      ],
      "metadata": {
        "colab": {
          "base_uri": "https://localhost:8080/"
        },
        "id": "dJbIl_8lRyw7",
        "outputId": "fb6febf4-8641-4597-9900-60550d5a9dad"
      },
      "execution_count": 321,
      "outputs": [
        {
          "output_type": "execute_result",
          "data": {
            "text/plain": [
              "[1.0,\n",
              " 0.0,\n",
              " 1.0,\n",
              " 0.6666666666666666,\n",
              " 1.0,\n",
              " 0.6666666666666666,\n",
              " 1.0,\n",
              " 1.0,\n",
              " 0.6666666666666666,\n",
              " 1.0,\n",
              " 0.6666666666666666,\n",
              " 1.0]"
            ]
          },
          "metadata": {},
          "execution_count": 321
        }
      ]
    },
    {
      "cell_type": "code",
      "source": [
        "new_df = pd.DataFrame(data = {\"Date\" : month_list, \"Receipt_Count\": receipt_counter})\n",
        "new_df.head()"
      ],
      "metadata": {
        "colab": {
          "base_uri": "https://localhost:8080/",
          "height": 206
        },
        "id": "sttToti3C5_M",
        "outputId": "20403f63-ee82-4dd8-81f2-f5e794037cfc"
      },
      "execution_count": 322,
      "outputs": [
        {
          "output_type": "execute_result",
          "data": {
            "text/plain": [
              "   Date  Receipt_Count\n",
              "0     1       1.000000\n",
              "1     2       0.000000\n",
              "2     3       1.000000\n",
              "3     4       0.666667\n",
              "4     5       1.000000"
            ],
            "text/html": [
              "\n",
              "  <div id=\"df-f6ee8fdf-0552-430e-afc5-fd3b330c9582\" class=\"colab-df-container\">\n",
              "    <div>\n",
              "<style scoped>\n",
              "    .dataframe tbody tr th:only-of-type {\n",
              "        vertical-align: middle;\n",
              "    }\n",
              "\n",
              "    .dataframe tbody tr th {\n",
              "        vertical-align: top;\n",
              "    }\n",
              "\n",
              "    .dataframe thead th {\n",
              "        text-align: right;\n",
              "    }\n",
              "</style>\n",
              "<table border=\"1\" class=\"dataframe\">\n",
              "  <thead>\n",
              "    <tr style=\"text-align: right;\">\n",
              "      <th></th>\n",
              "      <th>Date</th>\n",
              "      <th>Receipt_Count</th>\n",
              "    </tr>\n",
              "  </thead>\n",
              "  <tbody>\n",
              "    <tr>\n",
              "      <th>0</th>\n",
              "      <td>1</td>\n",
              "      <td>1.000000</td>\n",
              "    </tr>\n",
              "    <tr>\n",
              "      <th>1</th>\n",
              "      <td>2</td>\n",
              "      <td>0.000000</td>\n",
              "    </tr>\n",
              "    <tr>\n",
              "      <th>2</th>\n",
              "      <td>3</td>\n",
              "      <td>1.000000</td>\n",
              "    </tr>\n",
              "    <tr>\n",
              "      <th>3</th>\n",
              "      <td>4</td>\n",
              "      <td>0.666667</td>\n",
              "    </tr>\n",
              "    <tr>\n",
              "      <th>4</th>\n",
              "      <td>5</td>\n",
              "      <td>1.000000</td>\n",
              "    </tr>\n",
              "  </tbody>\n",
              "</table>\n",
              "</div>\n",
              "    <div class=\"colab-df-buttons\">\n",
              "\n",
              "  <div class=\"colab-df-container\">\n",
              "    <button class=\"colab-df-convert\" onclick=\"convertToInteractive('df-f6ee8fdf-0552-430e-afc5-fd3b330c9582')\"\n",
              "            title=\"Convert this dataframe to an interactive table.\"\n",
              "            style=\"display:none;\">\n",
              "\n",
              "  <svg xmlns=\"http://www.w3.org/2000/svg\" height=\"24px\" viewBox=\"0 -960 960 960\">\n",
              "    <path d=\"M120-120v-720h720v720H120Zm60-500h600v-160H180v160Zm220 220h160v-160H400v160Zm0 220h160v-160H400v160ZM180-400h160v-160H180v160Zm440 0h160v-160H620v160ZM180-180h160v-160H180v160Zm440 0h160v-160H620v160Z\"/>\n",
              "  </svg>\n",
              "    </button>\n",
              "\n",
              "  <style>\n",
              "    .colab-df-container {\n",
              "      display:flex;\n",
              "      gap: 12px;\n",
              "    }\n",
              "\n",
              "    .colab-df-convert {\n",
              "      background-color: #E8F0FE;\n",
              "      border: none;\n",
              "      border-radius: 50%;\n",
              "      cursor: pointer;\n",
              "      display: none;\n",
              "      fill: #1967D2;\n",
              "      height: 32px;\n",
              "      padding: 0 0 0 0;\n",
              "      width: 32px;\n",
              "    }\n",
              "\n",
              "    .colab-df-convert:hover {\n",
              "      background-color: #E2EBFA;\n",
              "      box-shadow: 0px 1px 2px rgba(60, 64, 67, 0.3), 0px 1px 3px 1px rgba(60, 64, 67, 0.15);\n",
              "      fill: #174EA6;\n",
              "    }\n",
              "\n",
              "    .colab-df-buttons div {\n",
              "      margin-bottom: 4px;\n",
              "    }\n",
              "\n",
              "    [theme=dark] .colab-df-convert {\n",
              "      background-color: #3B4455;\n",
              "      fill: #D2E3FC;\n",
              "    }\n",
              "\n",
              "    [theme=dark] .colab-df-convert:hover {\n",
              "      background-color: #434B5C;\n",
              "      box-shadow: 0px 1px 3px 1px rgba(0, 0, 0, 0.15);\n",
              "      filter: drop-shadow(0px 1px 2px rgba(0, 0, 0, 0.3));\n",
              "      fill: #FFFFFF;\n",
              "    }\n",
              "  </style>\n",
              "\n",
              "    <script>\n",
              "      const buttonEl =\n",
              "        document.querySelector('#df-f6ee8fdf-0552-430e-afc5-fd3b330c9582 button.colab-df-convert');\n",
              "      buttonEl.style.display =\n",
              "        google.colab.kernel.accessAllowed ? 'block' : 'none';\n",
              "\n",
              "      async function convertToInteractive(key) {\n",
              "        const element = document.querySelector('#df-f6ee8fdf-0552-430e-afc5-fd3b330c9582');\n",
              "        const dataTable =\n",
              "          await google.colab.kernel.invokeFunction('convertToInteractive',\n",
              "                                                    [key], {});\n",
              "        if (!dataTable) return;\n",
              "\n",
              "        const docLinkHtml = 'Like what you see? Visit the ' +\n",
              "          '<a target=\"_blank\" href=https://colab.research.google.com/notebooks/data_table.ipynb>data table notebook</a>'\n",
              "          + ' to learn more about interactive tables.';\n",
              "        element.innerHTML = '';\n",
              "        dataTable['output_type'] = 'display_data';\n",
              "        await google.colab.output.renderOutput(dataTable, element);\n",
              "        const docLink = document.createElement('div');\n",
              "        docLink.innerHTML = docLinkHtml;\n",
              "        element.appendChild(docLink);\n",
              "      }\n",
              "    </script>\n",
              "  </div>\n",
              "\n",
              "\n",
              "<div id=\"df-186be92a-fbb2-4e5f-98a2-6c791ae6a64d\">\n",
              "  <button class=\"colab-df-quickchart\" onclick=\"quickchart('df-186be92a-fbb2-4e5f-98a2-6c791ae6a64d')\"\n",
              "            title=\"Suggest charts.\"\n",
              "            style=\"display:none;\">\n",
              "\n",
              "<svg xmlns=\"http://www.w3.org/2000/svg\" height=\"24px\"viewBox=\"0 0 24 24\"\n",
              "     width=\"24px\">\n",
              "    <g>\n",
              "        <path d=\"M19 3H5c-1.1 0-2 .9-2 2v14c0 1.1.9 2 2 2h14c1.1 0 2-.9 2-2V5c0-1.1-.9-2-2-2zM9 17H7v-7h2v7zm4 0h-2V7h2v10zm4 0h-2v-4h2v4z\"/>\n",
              "    </g>\n",
              "</svg>\n",
              "  </button>\n",
              "\n",
              "<style>\n",
              "  .colab-df-quickchart {\n",
              "      --bg-color: #E8F0FE;\n",
              "      --fill-color: #1967D2;\n",
              "      --hover-bg-color: #E2EBFA;\n",
              "      --hover-fill-color: #174EA6;\n",
              "      --disabled-fill-color: #AAA;\n",
              "      --disabled-bg-color: #DDD;\n",
              "  }\n",
              "\n",
              "  [theme=dark] .colab-df-quickchart {\n",
              "      --bg-color: #3B4455;\n",
              "      --fill-color: #D2E3FC;\n",
              "      --hover-bg-color: #434B5C;\n",
              "      --hover-fill-color: #FFFFFF;\n",
              "      --disabled-bg-color: #3B4455;\n",
              "      --disabled-fill-color: #666;\n",
              "  }\n",
              "\n",
              "  .colab-df-quickchart {\n",
              "    background-color: var(--bg-color);\n",
              "    border: none;\n",
              "    border-radius: 50%;\n",
              "    cursor: pointer;\n",
              "    display: none;\n",
              "    fill: var(--fill-color);\n",
              "    height: 32px;\n",
              "    padding: 0;\n",
              "    width: 32px;\n",
              "  }\n",
              "\n",
              "  .colab-df-quickchart:hover {\n",
              "    background-color: var(--hover-bg-color);\n",
              "    box-shadow: 0 1px 2px rgba(60, 64, 67, 0.3), 0 1px 3px 1px rgba(60, 64, 67, 0.15);\n",
              "    fill: var(--button-hover-fill-color);\n",
              "  }\n",
              "\n",
              "  .colab-df-quickchart-complete:disabled,\n",
              "  .colab-df-quickchart-complete:disabled:hover {\n",
              "    background-color: var(--disabled-bg-color);\n",
              "    fill: var(--disabled-fill-color);\n",
              "    box-shadow: none;\n",
              "  }\n",
              "\n",
              "  .colab-df-spinner {\n",
              "    border: 2px solid var(--fill-color);\n",
              "    border-color: transparent;\n",
              "    border-bottom-color: var(--fill-color);\n",
              "    animation:\n",
              "      spin 1s steps(1) infinite;\n",
              "  }\n",
              "\n",
              "  @keyframes spin {\n",
              "    0% {\n",
              "      border-color: transparent;\n",
              "      border-bottom-color: var(--fill-color);\n",
              "      border-left-color: var(--fill-color);\n",
              "    }\n",
              "    20% {\n",
              "      border-color: transparent;\n",
              "      border-left-color: var(--fill-color);\n",
              "      border-top-color: var(--fill-color);\n",
              "    }\n",
              "    30% {\n",
              "      border-color: transparent;\n",
              "      border-left-color: var(--fill-color);\n",
              "      border-top-color: var(--fill-color);\n",
              "      border-right-color: var(--fill-color);\n",
              "    }\n",
              "    40% {\n",
              "      border-color: transparent;\n",
              "      border-right-color: var(--fill-color);\n",
              "      border-top-color: var(--fill-color);\n",
              "    }\n",
              "    60% {\n",
              "      border-color: transparent;\n",
              "      border-right-color: var(--fill-color);\n",
              "    }\n",
              "    80% {\n",
              "      border-color: transparent;\n",
              "      border-right-color: var(--fill-color);\n",
              "      border-bottom-color: var(--fill-color);\n",
              "    }\n",
              "    90% {\n",
              "      border-color: transparent;\n",
              "      border-bottom-color: var(--fill-color);\n",
              "    }\n",
              "  }\n",
              "</style>\n",
              "\n",
              "  <script>\n",
              "    async function quickchart(key) {\n",
              "      const quickchartButtonEl =\n",
              "        document.querySelector('#' + key + ' button');\n",
              "      quickchartButtonEl.disabled = true;  // To prevent multiple clicks.\n",
              "      quickchartButtonEl.classList.add('colab-df-spinner');\n",
              "      try {\n",
              "        const charts = await google.colab.kernel.invokeFunction(\n",
              "            'suggestCharts', [key], {});\n",
              "      } catch (error) {\n",
              "        console.error('Error during call to suggestCharts:', error);\n",
              "      }\n",
              "      quickchartButtonEl.classList.remove('colab-df-spinner');\n",
              "      quickchartButtonEl.classList.add('colab-df-quickchart-complete');\n",
              "    }\n",
              "    (() => {\n",
              "      let quickchartButtonEl =\n",
              "        document.querySelector('#df-186be92a-fbb2-4e5f-98a2-6c791ae6a64d button');\n",
              "      quickchartButtonEl.style.display =\n",
              "        google.colab.kernel.accessAllowed ? 'block' : 'none';\n",
              "    })();\n",
              "  </script>\n",
              "</div>\n",
              "    </div>\n",
              "  </div>\n"
            ]
          },
          "metadata": {},
          "execution_count": 322
        }
      ]
    },
    {
      "cell_type": "code",
      "source": [
        "from torch import nn\n",
        "import torch"
      ],
      "metadata": {
        "id": "cT8jJIpVG56S"
      },
      "execution_count": 323,
      "outputs": []
    },
    {
      "cell_type": "code",
      "source": [
        "def reshape_conversion(data):\n",
        "    numpyarray = np.array(data)\n",
        "    numpyarray_dtype = numpyarray.astype(np.float32)\n",
        "    numpyarray_reshape = numpyarray_dtype.reshape(-1, 1)\n",
        "    tensor_array = torch.tensor(numpyarray_reshape)\n",
        "    tensor_array = Variable(tensor_array)\n",
        "    return tensor_array"
      ],
      "metadata": {
        "id": "Bc9XeQv1IsYz"
      },
      "execution_count": 324,
      "outputs": []
    },
    {
      "cell_type": "code",
      "source": [
        "month_data1 = reshape_conversion(month_list[0:11])\n",
        "month_data2 = reshape_conversion(month_list[-1])"
      ],
      "metadata": {
        "id": "sYqqnrHlInlU"
      },
      "execution_count": 325,
      "outputs": []
    },
    {
      "cell_type": "code",
      "source": [
        "receipt_count_data1 = reshape_conversion(receipt_counter[0:11])\n",
        "receipt_count_data2 = reshape_conversion(receipt_counter[-1])"
      ],
      "metadata": {
        "id": "jMAk8x5GKQvd"
      },
      "execution_count": 326,
      "outputs": []
    },
    {
      "cell_type": "code",
      "source": [
        "receipt_count_data1"
      ],
      "metadata": {
        "colab": {
          "base_uri": "https://localhost:8080/"
        },
        "id": "11qH2UDOP7vN",
        "outputId": "c030f167-c8b8-45e8-bb7f-c8dfe342e943"
      },
      "execution_count": 327,
      "outputs": [
        {
          "output_type": "execute_result",
          "data": {
            "text/plain": [
              "tensor([[1.0000],\n",
              "        [0.0000],\n",
              "        [1.0000],\n",
              "        [0.6667],\n",
              "        [1.0000],\n",
              "        [0.6667],\n",
              "        [1.0000],\n",
              "        [1.0000],\n",
              "        [0.6667],\n",
              "        [1.0000],\n",
              "        [0.6667]])"
            ]
          },
          "metadata": {},
          "execution_count": 327
        }
      ]
    },
    {
      "cell_type": "code",
      "source": [
        "import tensorflow as tf\n",
        "from keras.models import Sequential\n",
        "from keras.layers import LSTM, Dense, Dropout\n",
        "from keras.optimizers import Adam\n",
        "from keras.callbacks import EarlyStopping, ReduceLROnPlateau, ModelCheckpoint\n",
        "\n",
        "def datamodel():\n",
        "    model = Sequential()\n",
        "    model.add(LSTM(100, activation='relu', return_sequences=True, input_shape=(1, 1)))\n",
        "    model.add(Dropout(0.3))\n",
        "    model.add(LSTM(50, activation='relu'))\n",
        "    model.add(Dense(1))\n",
        "    return model"
      ],
      "metadata": {
        "id": "n9UpjOTYGbmj"
      },
      "execution_count": 328,
      "outputs": []
    },
    {
      "cell_type": "code",
      "source": [
        "model = datamodel()\n",
        "model.compile(loss='mean_squared_error', optimizer=Adam(lr=0.001))\n",
        "early_stopping = EarlyStopping(monitor='train_loss', patience=10, restore_best_weights=True)\n",
        "reduce_lr = ReduceLROnPlateau(monitor='train_loss', factor=0.2, patience=5, min_lr=1e-6)\n",
        "month_data1 = tf.convert_to_tensor(month_data1, dtype=tf.float32)\n",
        "receipt_count_data1 = tf.convert_to_tensor(receipt_count_data1, dtype=tf.float32)\n",
        "model_checkpoint = ModelCheckpoint('bestmodel.h5',monitor='train_loss', save_best_only=True)\n",
        "model_fit = model.fit(month_data1, receipt_count_data1, epochs=100, verbose=1, callbacks=[early_stopping, reduce_lr, model_checkpoint])\n",
        "model_fit"
      ],
      "metadata": {
        "id": "qbdxiTlRGbjb",
        "colab": {
          "base_uri": "https://localhost:8080/"
        },
        "outputId": "2fbaffa6-f03f-4479-cb17-b5a0d0ac7d68"
      },
      "execution_count": 329,
      "outputs": [
        {
          "output_type": "stream",
          "name": "stderr",
          "text": [
            "WARNING:absl:`lr` is deprecated in Keras optimizer, please use `learning_rate` or use the legacy optimizer, e.g.,tf.keras.optimizers.legacy.Adam.\n"
          ]
        },
        {
          "output_type": "stream",
          "name": "stdout",
          "text": [
            "Epoch 1/100\n",
            "1/1 [==============================] - ETA: 0s - loss: 0.6816"
          ]
        },
        {
          "output_type": "stream",
          "name": "stderr",
          "text": [
            "WARNING:tensorflow:Early stopping conditioned on metric `train_loss` which is not available. Available metrics are: loss\n",
            "WARNING:tensorflow:Learning rate reduction is conditioned on metric `train_loss` which is not available. Available metrics are: loss,lr\n",
            "WARNING:tensorflow:Can save best model only with train_loss available, skipping.\n"
          ]
        },
        {
          "output_type": "stream",
          "name": "stdout",
          "text": [
            "\b\b\b\b\b\b\b\b\b\b\b\b\b\b\b\b\b\b\b\b\b\b\b\b\b\b\b\b\b\b\b\b\b\b\b\b\b\b\b\b\b\b\b\b\b\b\b\b\b\b\b\b\b\b\b\b\b\b\b\b\b\r1/1 [==============================] - 3s 3s/step - loss: 0.6816 - lr: 0.0010\n",
            "Epoch 2/100\n",
            "1/1 [==============================] - ETA: 0s - loss: 0.6783"
          ]
        },
        {
          "output_type": "stream",
          "name": "stderr",
          "text": [
            "WARNING:tensorflow:Early stopping conditioned on metric `train_loss` which is not available. Available metrics are: loss\n",
            "WARNING:tensorflow:Learning rate reduction is conditioned on metric `train_loss` which is not available. Available metrics are: loss,lr\n",
            "WARNING:tensorflow:Can save best model only with train_loss available, skipping.\n"
          ]
        },
        {
          "output_type": "stream",
          "name": "stdout",
          "text": [
            "\b\b\b\b\b\b\b\b\b\b\b\b\b\b\b\b\b\b\b\b\b\b\b\b\b\b\b\b\b\b\b\b\b\b\b\b\b\b\b\b\b\b\b\b\b\b\b\b\b\b\b\b\b\b\b\b\b\b\b\b\b\r1/1 [==============================] - 0s 18ms/step - loss: 0.6783 - lr: 0.0010\n",
            "Epoch 3/100\n",
            "1/1 [==============================] - ETA: 0s - loss: 0.6659"
          ]
        },
        {
          "output_type": "stream",
          "name": "stderr",
          "text": [
            "WARNING:tensorflow:Early stopping conditioned on metric `train_loss` which is not available. Available metrics are: loss\n",
            "WARNING:tensorflow:Learning rate reduction is conditioned on metric `train_loss` which is not available. Available metrics are: loss,lr\n",
            "WARNING:tensorflow:Can save best model only with train_loss available, skipping.\n"
          ]
        },
        {
          "output_type": "stream",
          "name": "stdout",
          "text": [
            "\b\b\b\b\b\b\b\b\b\b\b\b\b\b\b\b\b\b\b\b\b\b\b\b\b\b\b\b\b\b\b\b\b\b\b\b\b\b\b\b\b\b\b\b\b\b\b\b\b\b\b\b\b\b\b\b\b\b\b\b\b\r1/1 [==============================] - 0s 23ms/step - loss: 0.6659 - lr: 0.0010\n",
            "Epoch 4/100\n",
            "1/1 [==============================] - ETA: 0s - loss: 0.6601"
          ]
        },
        {
          "output_type": "stream",
          "name": "stderr",
          "text": [
            "WARNING:tensorflow:Early stopping conditioned on metric `train_loss` which is not available. Available metrics are: loss\n",
            "WARNING:tensorflow:Learning rate reduction is conditioned on metric `train_loss` which is not available. Available metrics are: loss,lr\n",
            "WARNING:tensorflow:Can save best model only with train_loss available, skipping.\n"
          ]
        },
        {
          "output_type": "stream",
          "name": "stdout",
          "text": [
            "\b\b\b\b\b\b\b\b\b\b\b\b\b\b\b\b\b\b\b\b\b\b\b\b\b\b\b\b\b\b\b\b\b\b\b\b\b\b\b\b\b\b\b\b\b\b\b\b\b\b\b\b\b\b\b\b\b\b\b\b\b\r1/1 [==============================] - 0s 29ms/step - loss: 0.6601 - lr: 0.0010\n",
            "Epoch 5/100\n",
            "1/1 [==============================] - ETA: 0s - loss: 0.6353"
          ]
        },
        {
          "output_type": "stream",
          "name": "stderr",
          "text": [
            "WARNING:tensorflow:Early stopping conditioned on metric `train_loss` which is not available. Available metrics are: loss\n",
            "WARNING:tensorflow:Learning rate reduction is conditioned on metric `train_loss` which is not available. Available metrics are: loss,lr\n",
            "WARNING:tensorflow:Can save best model only with train_loss available, skipping.\n"
          ]
        },
        {
          "output_type": "stream",
          "name": "stdout",
          "text": [
            "\b\b\b\b\b\b\b\b\b\b\b\b\b\b\b\b\b\b\b\b\b\b\b\b\b\b\b\b\b\b\b\b\b\b\b\b\b\b\b\b\b\b\b\b\b\b\b\b\b\b\b\b\b\b\b\b\b\b\b\b\b\r1/1 [==============================] - 0s 23ms/step - loss: 0.6353 - lr: 0.0010\n",
            "Epoch 6/100\n",
            "1/1 [==============================] - ETA: 0s - loss: 0.6325"
          ]
        },
        {
          "output_type": "stream",
          "name": "stderr",
          "text": [
            "WARNING:tensorflow:Early stopping conditioned on metric `train_loss` which is not available. Available metrics are: loss\n",
            "WARNING:tensorflow:Learning rate reduction is conditioned on metric `train_loss` which is not available. Available metrics are: loss,lr\n",
            "WARNING:tensorflow:Can save best model only with train_loss available, skipping.\n"
          ]
        },
        {
          "output_type": "stream",
          "name": "stdout",
          "text": [
            "\b\b\b\b\b\b\b\b\b\b\b\b\b\b\b\b\b\b\b\b\b\b\b\b\b\b\b\b\b\b\b\b\b\b\b\b\b\b\b\b\b\b\b\b\b\b\b\b\b\b\b\b\b\b\b\b\b\b\b\b\b\r1/1 [==============================] - 0s 17ms/step - loss: 0.6325 - lr: 0.0010\n",
            "Epoch 7/100\n",
            "1/1 [==============================] - ETA: 0s - loss: 0.6120"
          ]
        },
        {
          "output_type": "stream",
          "name": "stderr",
          "text": [
            "WARNING:tensorflow:Early stopping conditioned on metric `train_loss` which is not available. Available metrics are: loss\n",
            "WARNING:tensorflow:Learning rate reduction is conditioned on metric `train_loss` which is not available. Available metrics are: loss,lr\n",
            "WARNING:tensorflow:Can save best model only with train_loss available, skipping.\n"
          ]
        },
        {
          "output_type": "stream",
          "name": "stdout",
          "text": [
            "\b\b\b\b\b\b\b\b\b\b\b\b\b\b\b\b\b\b\b\b\b\b\b\b\b\b\b\b\b\b\b\b\b\b\b\b\b\b\b\b\b\b\b\b\b\b\b\b\b\b\b\b\b\b\b\b\b\b\b\b\b\r1/1 [==============================] - 0s 17ms/step - loss: 0.6120 - lr: 0.0010\n",
            "Epoch 8/100\n",
            "1/1 [==============================] - ETA: 0s - loss: 0.5953"
          ]
        },
        {
          "output_type": "stream",
          "name": "stderr",
          "text": [
            "WARNING:tensorflow:Early stopping conditioned on metric `train_loss` which is not available. Available metrics are: loss\n",
            "WARNING:tensorflow:Learning rate reduction is conditioned on metric `train_loss` which is not available. Available metrics are: loss,lr\n",
            "WARNING:tensorflow:Can save best model only with train_loss available, skipping.\n"
          ]
        },
        {
          "output_type": "stream",
          "name": "stdout",
          "text": [
            "\b\b\b\b\b\b\b\b\b\b\b\b\b\b\b\b\b\b\b\b\b\b\b\b\b\b\b\b\b\b\b\b\b\b\b\b\b\b\b\b\b\b\b\b\b\b\b\b\b\b\b\b\b\b\b\b\b\b\b\b\b\r1/1 [==============================] - 0s 25ms/step - loss: 0.5953 - lr: 0.0010\n",
            "Epoch 9/100\n",
            "1/1 [==============================] - ETA: 0s - loss: 0.5804"
          ]
        },
        {
          "output_type": "stream",
          "name": "stderr",
          "text": [
            "WARNING:tensorflow:Early stopping conditioned on metric `train_loss` which is not available. Available metrics are: loss\n",
            "WARNING:tensorflow:Learning rate reduction is conditioned on metric `train_loss` which is not available. Available metrics are: loss,lr\n",
            "WARNING:tensorflow:Can save best model only with train_loss available, skipping.\n"
          ]
        },
        {
          "output_type": "stream",
          "name": "stdout",
          "text": [
            "\b\b\b\b\b\b\b\b\b\b\b\b\b\b\b\b\b\b\b\b\b\b\b\b\b\b\b\b\b\b\b\b\b\b\b\b\b\b\b\b\b\b\b\b\b\b\b\b\b\b\b\b\b\b\b\b\b\b\b\b\b\r1/1 [==============================] - 0s 19ms/step - loss: 0.5804 - lr: 0.0010\n",
            "Epoch 10/100\n",
            "1/1 [==============================] - ETA: 0s - loss: 0.5710"
          ]
        },
        {
          "output_type": "stream",
          "name": "stderr",
          "text": [
            "WARNING:tensorflow:Early stopping conditioned on metric `train_loss` which is not available. Available metrics are: loss\n",
            "WARNING:tensorflow:Learning rate reduction is conditioned on metric `train_loss` which is not available. Available metrics are: loss,lr\n",
            "WARNING:tensorflow:Can save best model only with train_loss available, skipping.\n"
          ]
        },
        {
          "output_type": "stream",
          "name": "stdout",
          "text": [
            "\b\b\b\b\b\b\b\b\b\b\b\b\b\b\b\b\b\b\b\b\b\b\b\b\b\b\b\b\b\b\b\b\b\b\b\b\b\b\b\b\b\b\b\b\b\b\b\b\b\b\b\b\b\b\b\b\b\b\b\b\b\r1/1 [==============================] - 0s 19ms/step - loss: 0.5710 - lr: 0.0010\n",
            "Epoch 11/100\n",
            "1/1 [==============================] - ETA: 0s - loss: 0.5665"
          ]
        },
        {
          "output_type": "stream",
          "name": "stderr",
          "text": [
            "WARNING:tensorflow:Early stopping conditioned on metric `train_loss` which is not available. Available metrics are: loss\n",
            "WARNING:tensorflow:Learning rate reduction is conditioned on metric `train_loss` which is not available. Available metrics are: loss,lr\n",
            "WARNING:tensorflow:Can save best model only with train_loss available, skipping.\n"
          ]
        },
        {
          "output_type": "stream",
          "name": "stdout",
          "text": [
            "\b\b\b\b\b\b\b\b\b\b\b\b\b\b\b\b\b\b\b\b\b\b\b\b\b\b\b\b\b\b\b\b\b\b\b\b\b\b\b\b\b\b\b\b\b\b\b\b\b\b\b\b\b\b\b\b\b\b\b\b\b\r1/1 [==============================] - 0s 20ms/step - loss: 0.5665 - lr: 0.0010\n",
            "Epoch 12/100\n",
            "1/1 [==============================] - ETA: 0s - loss: 0.5555"
          ]
        },
        {
          "output_type": "stream",
          "name": "stderr",
          "text": [
            "WARNING:tensorflow:Early stopping conditioned on metric `train_loss` which is not available. Available metrics are: loss\n",
            "WARNING:tensorflow:Learning rate reduction is conditioned on metric `train_loss` which is not available. Available metrics are: loss,lr\n",
            "WARNING:tensorflow:Can save best model only with train_loss available, skipping.\n"
          ]
        },
        {
          "output_type": "stream",
          "name": "stdout",
          "text": [
            "\b\b\b\b\b\b\b\b\b\b\b\b\b\b\b\b\b\b\b\b\b\b\b\b\b\b\b\b\b\b\b\b\b\b\b\b\b\b\b\b\b\b\b\b\b\b\b\b\b\b\b\b\b\b\b\b\b\b\b\b\b\r1/1 [==============================] - 0s 22ms/step - loss: 0.5555 - lr: 0.0010\n",
            "Epoch 13/100\n",
            "1/1 [==============================] - ETA: 0s - loss: 0.5238"
          ]
        },
        {
          "output_type": "stream",
          "name": "stderr",
          "text": [
            "WARNING:tensorflow:Early stopping conditioned on metric `train_loss` which is not available. Available metrics are: loss\n",
            "WARNING:tensorflow:Learning rate reduction is conditioned on metric `train_loss` which is not available. Available metrics are: loss,lr\n",
            "WARNING:tensorflow:Can save best model only with train_loss available, skipping.\n"
          ]
        },
        {
          "output_type": "stream",
          "name": "stdout",
          "text": [
            "\b\b\b\b\b\b\b\b\b\b\b\b\b\b\b\b\b\b\b\b\b\b\b\b\b\b\b\b\b\b\b\b\b\b\b\b\b\b\b\b\b\b\b\b\b\b\b\b\b\b\b\b\b\b\b\b\b\b\b\b\b\r1/1 [==============================] - 0s 16ms/step - loss: 0.5238 - lr: 0.0010\n",
            "Epoch 14/100\n",
            "1/1 [==============================] - ETA: 0s - loss: 0.5265"
          ]
        },
        {
          "output_type": "stream",
          "name": "stderr",
          "text": [
            "WARNING:tensorflow:Early stopping conditioned on metric `train_loss` which is not available. Available metrics are: loss\n",
            "WARNING:tensorflow:Learning rate reduction is conditioned on metric `train_loss` which is not available. Available metrics are: loss,lr\n",
            "WARNING:tensorflow:Can save best model only with train_loss available, skipping.\n"
          ]
        },
        {
          "output_type": "stream",
          "name": "stdout",
          "text": [
            "\b\b\b\b\b\b\b\b\b\b\b\b\b\b\b\b\b\b\b\b\b\b\b\b\b\b\b\b\b\b\b\b\b\b\b\b\b\b\b\b\b\b\b\b\b\b\b\b\b\b\b\b\b\b\b\b\b\b\b\b\b\r1/1 [==============================] - 0s 15ms/step - loss: 0.5265 - lr: 0.0010\n",
            "Epoch 15/100\n",
            "1/1 [==============================] - ETA: 0s - loss: 0.5163"
          ]
        },
        {
          "output_type": "stream",
          "name": "stderr",
          "text": [
            "WARNING:tensorflow:Early stopping conditioned on metric `train_loss` which is not available. Available metrics are: loss\n",
            "WARNING:tensorflow:Learning rate reduction is conditioned on metric `train_loss` which is not available. Available metrics are: loss,lr\n",
            "WARNING:tensorflow:Can save best model only with train_loss available, skipping.\n"
          ]
        },
        {
          "output_type": "stream",
          "name": "stdout",
          "text": [
            "\b\b\b\b\b\b\b\b\b\b\b\b\b\b\b\b\b\b\b\b\b\b\b\b\b\b\b\b\b\b\b\b\b\b\b\b\b\b\b\b\b\b\b\b\b\b\b\b\b\b\b\b\b\b\b\b\b\b\b\b\b\r1/1 [==============================] - 0s 15ms/step - loss: 0.5163 - lr: 0.0010\n",
            "Epoch 16/100\n",
            "1/1 [==============================] - ETA: 0s - loss: 0.4989"
          ]
        },
        {
          "output_type": "stream",
          "name": "stderr",
          "text": [
            "WARNING:tensorflow:Early stopping conditioned on metric `train_loss` which is not available. Available metrics are: loss\n",
            "WARNING:tensorflow:Learning rate reduction is conditioned on metric `train_loss` which is not available. Available metrics are: loss,lr\n",
            "WARNING:tensorflow:Can save best model only with train_loss available, skipping.\n"
          ]
        },
        {
          "output_type": "stream",
          "name": "stdout",
          "text": [
            "\b\b\b\b\b\b\b\b\b\b\b\b\b\b\b\b\b\b\b\b\b\b\b\b\b\b\b\b\b\b\b\b\b\b\b\b\b\b\b\b\b\b\b\b\b\b\b\b\b\b\b\b\b\b\b\b\b\b\b\b\b\r1/1 [==============================] - 0s 27ms/step - loss: 0.4989 - lr: 0.0010\n",
            "Epoch 17/100\n",
            "1/1 [==============================] - ETA: 0s - loss: 0.4925"
          ]
        },
        {
          "output_type": "stream",
          "name": "stderr",
          "text": [
            "WARNING:tensorflow:Early stopping conditioned on metric `train_loss` which is not available. Available metrics are: loss\n",
            "WARNING:tensorflow:Learning rate reduction is conditioned on metric `train_loss` which is not available. Available metrics are: loss,lr\n",
            "WARNING:tensorflow:Can save best model only with train_loss available, skipping.\n"
          ]
        },
        {
          "output_type": "stream",
          "name": "stdout",
          "text": [
            "\b\b\b\b\b\b\b\b\b\b\b\b\b\b\b\b\b\b\b\b\b\b\b\b\b\b\b\b\b\b\b\b\b\b\b\b\b\b\b\b\b\b\b\b\b\b\b\b\b\b\b\b\b\b\b\b\b\b\b\b\b\r1/1 [==============================] - 0s 18ms/step - loss: 0.4925 - lr: 0.0010\n",
            "Epoch 18/100\n",
            "1/1 [==============================] - ETA: 0s - loss: 0.4612"
          ]
        },
        {
          "output_type": "stream",
          "name": "stderr",
          "text": [
            "WARNING:tensorflow:Early stopping conditioned on metric `train_loss` which is not available. Available metrics are: loss\n",
            "WARNING:tensorflow:Learning rate reduction is conditioned on metric `train_loss` which is not available. Available metrics are: loss,lr\n",
            "WARNING:tensorflow:Can save best model only with train_loss available, skipping.\n"
          ]
        },
        {
          "output_type": "stream",
          "name": "stdout",
          "text": [
            "\b\b\b\b\b\b\b\b\b\b\b\b\b\b\b\b\b\b\b\b\b\b\b\b\b\b\b\b\b\b\b\b\b\b\b\b\b\b\b\b\b\b\b\b\b\b\b\b\b\b\b\b\b\b\b\b\b\b\b\b\b\r1/1 [==============================] - 0s 18ms/step - loss: 0.4612 - lr: 0.0010\n",
            "Epoch 19/100\n",
            "1/1 [==============================] - ETA: 0s - loss: 0.4401"
          ]
        },
        {
          "output_type": "stream",
          "name": "stderr",
          "text": [
            "WARNING:tensorflow:Early stopping conditioned on metric `train_loss` which is not available. Available metrics are: loss\n",
            "WARNING:tensorflow:Learning rate reduction is conditioned on metric `train_loss` which is not available. Available metrics are: loss,lr\n",
            "WARNING:tensorflow:Can save best model only with train_loss available, skipping.\n"
          ]
        },
        {
          "output_type": "stream",
          "name": "stdout",
          "text": [
            "\b\b\b\b\b\b\b\b\b\b\b\b\b\b\b\b\b\b\b\b\b\b\b\b\b\b\b\b\b\b\b\b\b\b\b\b\b\b\b\b\b\b\b\b\b\b\b\b\b\b\b\b\b\b\b\b\b\b\b\b\b\r1/1 [==============================] - 0s 19ms/step - loss: 0.4401 - lr: 0.0010\n",
            "Epoch 20/100\n",
            "1/1 [==============================] - ETA: 0s - loss: 0.4326"
          ]
        },
        {
          "output_type": "stream",
          "name": "stderr",
          "text": [
            "WARNING:tensorflow:Early stopping conditioned on metric `train_loss` which is not available. Available metrics are: loss\n",
            "WARNING:tensorflow:Learning rate reduction is conditioned on metric `train_loss` which is not available. Available metrics are: loss,lr\n",
            "WARNING:tensorflow:Can save best model only with train_loss available, skipping.\n"
          ]
        },
        {
          "output_type": "stream",
          "name": "stdout",
          "text": [
            "\b\b\b\b\b\b\b\b\b\b\b\b\b\b\b\b\b\b\b\b\b\b\b\b\b\b\b\b\b\b\b\b\b\b\b\b\b\b\b\b\b\b\b\b\b\b\b\b\b\b\b\b\b\b\b\b\b\b\b\b\b\r1/1 [==============================] - 0s 25ms/step - loss: 0.4326 - lr: 0.0010\n",
            "Epoch 21/100\n",
            "1/1 [==============================] - ETA: 0s - loss: 0.4223"
          ]
        },
        {
          "output_type": "stream",
          "name": "stderr",
          "text": [
            "WARNING:tensorflow:Early stopping conditioned on metric `train_loss` which is not available. Available metrics are: loss\n",
            "WARNING:tensorflow:Learning rate reduction is conditioned on metric `train_loss` which is not available. Available metrics are: loss,lr\n",
            "WARNING:tensorflow:Can save best model only with train_loss available, skipping.\n"
          ]
        },
        {
          "output_type": "stream",
          "name": "stdout",
          "text": [
            "\b\b\b\b\b\b\b\b\b\b\b\b\b\b\b\b\b\b\b\b\b\b\b\b\b\b\b\b\b\b\b\b\b\b\b\b\b\b\b\b\b\b\b\b\b\b\b\b\b\b\b\b\b\b\b\b\b\b\b\b\b\r1/1 [==============================] - 0s 23ms/step - loss: 0.4223 - lr: 0.0010\n",
            "Epoch 22/100\n",
            "1/1 [==============================] - ETA: 0s - loss: 0.4065"
          ]
        },
        {
          "output_type": "stream",
          "name": "stderr",
          "text": [
            "WARNING:tensorflow:Early stopping conditioned on metric `train_loss` which is not available. Available metrics are: loss\n",
            "WARNING:tensorflow:Learning rate reduction is conditioned on metric `train_loss` which is not available. Available metrics are: loss,lr\n",
            "WARNING:tensorflow:Can save best model only with train_loss available, skipping.\n"
          ]
        },
        {
          "output_type": "stream",
          "name": "stdout",
          "text": [
            "\b\b\b\b\b\b\b\b\b\b\b\b\b\b\b\b\b\b\b\b\b\b\b\b\b\b\b\b\b\b\b\b\b\b\b\b\b\b\b\b\b\b\b\b\b\b\b\b\b\b\b\b\b\b\b\b\b\b\b\b\b\r1/1 [==============================] - 0s 20ms/step - loss: 0.4065 - lr: 0.0010\n",
            "Epoch 23/100\n",
            "1/1 [==============================] - ETA: 0s - loss: 0.3617"
          ]
        },
        {
          "output_type": "stream",
          "name": "stderr",
          "text": [
            "WARNING:tensorflow:Early stopping conditioned on metric `train_loss` which is not available. Available metrics are: loss\n",
            "WARNING:tensorflow:Learning rate reduction is conditioned on metric `train_loss` which is not available. Available metrics are: loss,lr\n",
            "WARNING:tensorflow:Can save best model only with train_loss available, skipping.\n"
          ]
        },
        {
          "output_type": "stream",
          "name": "stdout",
          "text": [
            "\b\b\b\b\b\b\b\b\b\b\b\b\b\b\b\b\b\b\b\b\b\b\b\b\b\b\b\b\b\b\b\b\b\b\b\b\b\b\b\b\b\b\b\b\b\b\b\b\b\b\b\b\b\b\b\b\b\b\b\b\b\r1/1 [==============================] - 0s 20ms/step - loss: 0.3617 - lr: 0.0010\n",
            "Epoch 24/100\n",
            "1/1 [==============================] - ETA: 0s - loss: 0.3597"
          ]
        },
        {
          "output_type": "stream",
          "name": "stderr",
          "text": [
            "WARNING:tensorflow:Early stopping conditioned on metric `train_loss` which is not available. Available metrics are: loss\n",
            "WARNING:tensorflow:Learning rate reduction is conditioned on metric `train_loss` which is not available. Available metrics are: loss,lr\n",
            "WARNING:tensorflow:Can save best model only with train_loss available, skipping.\n"
          ]
        },
        {
          "output_type": "stream",
          "name": "stdout",
          "text": [
            "\b\b\b\b\b\b\b\b\b\b\b\b\b\b\b\b\b\b\b\b\b\b\b\b\b\b\b\b\b\b\b\b\b\b\b\b\b\b\b\b\b\b\b\b\b\b\b\b\b\b\b\b\b\b\b\b\b\b\b\b\b\r1/1 [==============================] - 0s 20ms/step - loss: 0.3597 - lr: 0.0010\n",
            "Epoch 25/100\n",
            "1/1 [==============================] - ETA: 0s - loss: 0.3369"
          ]
        },
        {
          "output_type": "stream",
          "name": "stderr",
          "text": [
            "WARNING:tensorflow:Early stopping conditioned on metric `train_loss` which is not available. Available metrics are: loss\n",
            "WARNING:tensorflow:Learning rate reduction is conditioned on metric `train_loss` which is not available. Available metrics are: loss,lr\n",
            "WARNING:tensorflow:Can save best model only with train_loss available, skipping.\n"
          ]
        },
        {
          "output_type": "stream",
          "name": "stdout",
          "text": [
            "\b\b\b\b\b\b\b\b\b\b\b\b\b\b\b\b\b\b\b\b\b\b\b\b\b\b\b\b\b\b\b\b\b\b\b\b\b\b\b\b\b\b\b\b\b\b\b\b\b\b\b\b\b\b\b\b\b\b\b\b\b\r1/1 [==============================] - 0s 18ms/step - loss: 0.3369 - lr: 0.0010\n",
            "Epoch 26/100\n",
            "1/1 [==============================] - ETA: 0s - loss: 0.3240"
          ]
        },
        {
          "output_type": "stream",
          "name": "stderr",
          "text": [
            "WARNING:tensorflow:Early stopping conditioned on metric `train_loss` which is not available. Available metrics are: loss\n",
            "WARNING:tensorflow:Learning rate reduction is conditioned on metric `train_loss` which is not available. Available metrics are: loss,lr\n",
            "WARNING:tensorflow:Can save best model only with train_loss available, skipping.\n"
          ]
        },
        {
          "output_type": "stream",
          "name": "stdout",
          "text": [
            "\b\b\b\b\b\b\b\b\b\b\b\b\b\b\b\b\b\b\b\b\b\b\b\b\b\b\b\b\b\b\b\b\b\b\b\b\b\b\b\b\b\b\b\b\b\b\b\b\b\b\b\b\b\b\b\b\b\b\b\b\b\r1/1 [==============================] - 0s 19ms/step - loss: 0.3240 - lr: 0.0010\n",
            "Epoch 27/100\n",
            "1/1 [==============================] - ETA: 0s - loss: 0.3015"
          ]
        },
        {
          "output_type": "stream",
          "name": "stderr",
          "text": [
            "WARNING:tensorflow:Early stopping conditioned on metric `train_loss` which is not available. Available metrics are: loss\n",
            "WARNING:tensorflow:Learning rate reduction is conditioned on metric `train_loss` which is not available. Available metrics are: loss,lr\n",
            "WARNING:tensorflow:Can save best model only with train_loss available, skipping.\n"
          ]
        },
        {
          "output_type": "stream",
          "name": "stdout",
          "text": [
            "\b\b\b\b\b\b\b\b\b\b\b\b\b\b\b\b\b\b\b\b\b\b\b\b\b\b\b\b\b\b\b\b\b\b\b\b\b\b\b\b\b\b\b\b\b\b\b\b\b\b\b\b\b\b\b\b\b\b\b\b\b\r1/1 [==============================] - 0s 20ms/step - loss: 0.3015 - lr: 0.0010\n",
            "Epoch 28/100\n",
            "1/1 [==============================] - ETA: 0s - loss: 0.2996"
          ]
        },
        {
          "output_type": "stream",
          "name": "stderr",
          "text": [
            "WARNING:tensorflow:Early stopping conditioned on metric `train_loss` which is not available. Available metrics are: loss\n",
            "WARNING:tensorflow:Learning rate reduction is conditioned on metric `train_loss` which is not available. Available metrics are: loss,lr\n",
            "WARNING:tensorflow:Can save best model only with train_loss available, skipping.\n"
          ]
        },
        {
          "output_type": "stream",
          "name": "stdout",
          "text": [
            "\b\b\b\b\b\b\b\b\b\b\b\b\b\b\b\b\b\b\b\b\b\b\b\b\b\b\b\b\b\b\b\b\b\b\b\b\b\b\b\b\b\b\b\b\b\b\b\b\b\b\b\b\b\b\b\b\b\b\b\b\b\r1/1 [==============================] - 0s 19ms/step - loss: 0.2996 - lr: 0.0010\n",
            "Epoch 29/100\n",
            "1/1 [==============================] - ETA: 0s - loss: 0.2800"
          ]
        },
        {
          "output_type": "stream",
          "name": "stderr",
          "text": [
            "WARNING:tensorflow:Early stopping conditioned on metric `train_loss` which is not available. Available metrics are: loss\n",
            "WARNING:tensorflow:Learning rate reduction is conditioned on metric `train_loss` which is not available. Available metrics are: loss,lr\n",
            "WARNING:tensorflow:Can save best model only with train_loss available, skipping.\n"
          ]
        },
        {
          "output_type": "stream",
          "name": "stdout",
          "text": [
            "\b\b\b\b\b\b\b\b\b\b\b\b\b\b\b\b\b\b\b\b\b\b\b\b\b\b\b\b\b\b\b\b\b\b\b\b\b\b\b\b\b\b\b\b\b\b\b\b\b\b\b\b\b\b\b\b\b\b\b\b\b\r1/1 [==============================] - 0s 21ms/step - loss: 0.2800 - lr: 0.0010\n",
            "Epoch 30/100\n",
            "1/1 [==============================] - ETA: 0s - loss: 0.2749"
          ]
        },
        {
          "output_type": "stream",
          "name": "stderr",
          "text": [
            "WARNING:tensorflow:Early stopping conditioned on metric `train_loss` which is not available. Available metrics are: loss\n",
            "WARNING:tensorflow:Learning rate reduction is conditioned on metric `train_loss` which is not available. Available metrics are: loss,lr\n",
            "WARNING:tensorflow:Can save best model only with train_loss available, skipping.\n"
          ]
        },
        {
          "output_type": "stream",
          "name": "stdout",
          "text": [
            "\b\b\b\b\b\b\b\b\b\b\b\b\b\b\b\b\b\b\b\b\b\b\b\b\b\b\b\b\b\b\b\b\b\b\b\b\b\b\b\b\b\b\b\b\b\b\b\b\b\b\b\b\b\b\b\b\b\b\b\b\b\r1/1 [==============================] - 0s 20ms/step - loss: 0.2749 - lr: 0.0010\n",
            "Epoch 31/100\n",
            "1/1 [==============================] - ETA: 0s - loss: 0.2483"
          ]
        },
        {
          "output_type": "stream",
          "name": "stderr",
          "text": [
            "WARNING:tensorflow:Early stopping conditioned on metric `train_loss` which is not available. Available metrics are: loss\n",
            "WARNING:tensorflow:Learning rate reduction is conditioned on metric `train_loss` which is not available. Available metrics are: loss,lr\n",
            "WARNING:tensorflow:Can save best model only with train_loss available, skipping.\n"
          ]
        },
        {
          "output_type": "stream",
          "name": "stdout",
          "text": [
            "\b\b\b\b\b\b\b\b\b\b\b\b\b\b\b\b\b\b\b\b\b\b\b\b\b\b\b\b\b\b\b\b\b\b\b\b\b\b\b\b\b\b\b\b\b\b\b\b\b\b\b\b\b\b\b\b\b\b\b\b\b\r1/1 [==============================] - 0s 23ms/step - loss: 0.2483 - lr: 0.0010\n",
            "Epoch 32/100\n",
            "1/1 [==============================] - ETA: 0s - loss: 0.2213"
          ]
        },
        {
          "output_type": "stream",
          "name": "stderr",
          "text": [
            "WARNING:tensorflow:Early stopping conditioned on metric `train_loss` which is not available. Available metrics are: loss\n",
            "WARNING:tensorflow:Learning rate reduction is conditioned on metric `train_loss` which is not available. Available metrics are: loss,lr\n",
            "WARNING:tensorflow:Can save best model only with train_loss available, skipping.\n"
          ]
        },
        {
          "output_type": "stream",
          "name": "stdout",
          "text": [
            "\b\b\b\b\b\b\b\b\b\b\b\b\b\b\b\b\b\b\b\b\b\b\b\b\b\b\b\b\b\b\b\b\b\b\b\b\b\b\b\b\b\b\b\b\b\b\b\b\b\b\b\b\b\b\b\b\b\b\b\b\b\r1/1 [==============================] - 0s 22ms/step - loss: 0.2213 - lr: 0.0010\n",
            "Epoch 33/100\n",
            "1/1 [==============================] - ETA: 0s - loss: 0.2248"
          ]
        },
        {
          "output_type": "stream",
          "name": "stderr",
          "text": [
            "WARNING:tensorflow:Early stopping conditioned on metric `train_loss` which is not available. Available metrics are: loss\n",
            "WARNING:tensorflow:Learning rate reduction is conditioned on metric `train_loss` which is not available. Available metrics are: loss,lr\n",
            "WARNING:tensorflow:Can save best model only with train_loss available, skipping.\n"
          ]
        },
        {
          "output_type": "stream",
          "name": "stdout",
          "text": [
            "\b\b\b\b\b\b\b\b\b\b\b\b\b\b\b\b\b\b\b\b\b\b\b\b\b\b\b\b\b\b\b\b\b\b\b\b\b\b\b\b\b\b\b\b\b\b\b\b\b\b\b\b\b\b\b\b\b\b\b\b\b\r1/1 [==============================] - 0s 22ms/step - loss: 0.2248 - lr: 0.0010\n",
            "Epoch 34/100\n",
            "1/1 [==============================] - ETA: 0s - loss: 0.2087"
          ]
        },
        {
          "output_type": "stream",
          "name": "stderr",
          "text": [
            "WARNING:tensorflow:Early stopping conditioned on metric `train_loss` which is not available. Available metrics are: loss\n",
            "WARNING:tensorflow:Learning rate reduction is conditioned on metric `train_loss` which is not available. Available metrics are: loss,lr\n",
            "WARNING:tensorflow:Can save best model only with train_loss available, skipping.\n"
          ]
        },
        {
          "output_type": "stream",
          "name": "stdout",
          "text": [
            "\b\b\b\b\b\b\b\b\b\b\b\b\b\b\b\b\b\b\b\b\b\b\b\b\b\b\b\b\b\b\b\b\b\b\b\b\b\b\b\b\b\b\b\b\b\b\b\b\b\b\b\b\b\b\b\b\b\b\b\b\b\r1/1 [==============================] - 0s 19ms/step - loss: 0.2087 - lr: 0.0010\n",
            "Epoch 35/100\n",
            "1/1 [==============================] - ETA: 0s - loss: 0.1962"
          ]
        },
        {
          "output_type": "stream",
          "name": "stderr",
          "text": [
            "WARNING:tensorflow:Early stopping conditioned on metric `train_loss` which is not available. Available metrics are: loss\n",
            "WARNING:tensorflow:Learning rate reduction is conditioned on metric `train_loss` which is not available. Available metrics are: loss,lr\n",
            "WARNING:tensorflow:Can save best model only with train_loss available, skipping.\n"
          ]
        },
        {
          "output_type": "stream",
          "name": "stdout",
          "text": [
            "\b\b\b\b\b\b\b\b\b\b\b\b\b\b\b\b\b\b\b\b\b\b\b\b\b\b\b\b\b\b\b\b\b\b\b\b\b\b\b\b\b\b\b\b\b\b\b\b\b\b\b\b\b\b\b\b\b\b\b\b\b\r1/1 [==============================] - 0s 23ms/step - loss: 0.1962 - lr: 0.0010\n",
            "Epoch 36/100\n",
            "1/1 [==============================] - ETA: 0s - loss: 0.1708"
          ]
        },
        {
          "output_type": "stream",
          "name": "stderr",
          "text": [
            "WARNING:tensorflow:Early stopping conditioned on metric `train_loss` which is not available. Available metrics are: loss\n",
            "WARNING:tensorflow:Learning rate reduction is conditioned on metric `train_loss` which is not available. Available metrics are: loss,lr\n",
            "WARNING:tensorflow:Can save best model only with train_loss available, skipping.\n"
          ]
        },
        {
          "output_type": "stream",
          "name": "stdout",
          "text": [
            "\b\b\b\b\b\b\b\b\b\b\b\b\b\b\b\b\b\b\b\b\b\b\b\b\b\b\b\b\b\b\b\b\b\b\b\b\b\b\b\b\b\b\b\b\b\b\b\b\b\b\b\b\b\b\b\b\b\b\b\b\b\r1/1 [==============================] - 0s 22ms/step - loss: 0.1708 - lr: 0.0010\n",
            "Epoch 37/100\n",
            "1/1 [==============================] - ETA: 0s - loss: 0.2090"
          ]
        },
        {
          "output_type": "stream",
          "name": "stderr",
          "text": [
            "WARNING:tensorflow:Early stopping conditioned on metric `train_loss` which is not available. Available metrics are: loss\n",
            "WARNING:tensorflow:Learning rate reduction is conditioned on metric `train_loss` which is not available. Available metrics are: loss,lr\n",
            "WARNING:tensorflow:Can save best model only with train_loss available, skipping.\n"
          ]
        },
        {
          "output_type": "stream",
          "name": "stdout",
          "text": [
            "\b\b\b\b\b\b\b\b\b\b\b\b\b\b\b\b\b\b\b\b\b\b\b\b\b\b\b\b\b\b\b\b\b\b\b\b\b\b\b\b\b\b\b\b\b\b\b\b\b\b\b\b\b\b\b\b\b\b\b\b\b\r1/1 [==============================] - 0s 19ms/step - loss: 0.2090 - lr: 0.0010\n",
            "Epoch 38/100\n",
            "1/1 [==============================] - ETA: 0s - loss: 0.2007"
          ]
        },
        {
          "output_type": "stream",
          "name": "stderr",
          "text": [
            "WARNING:tensorflow:Early stopping conditioned on metric `train_loss` which is not available. Available metrics are: loss\n",
            "WARNING:tensorflow:Learning rate reduction is conditioned on metric `train_loss` which is not available. Available metrics are: loss,lr\n",
            "WARNING:tensorflow:Can save best model only with train_loss available, skipping.\n"
          ]
        },
        {
          "output_type": "stream",
          "name": "stdout",
          "text": [
            "\b\b\b\b\b\b\b\b\b\b\b\b\b\b\b\b\b\b\b\b\b\b\b\b\b\b\b\b\b\b\b\b\b\b\b\b\b\b\b\b\b\b\b\b\b\b\b\b\b\b\b\b\b\b\b\b\b\b\b\b\b\r1/1 [==============================] - 0s 18ms/step - loss: 0.2007 - lr: 0.0010\n",
            "Epoch 39/100\n",
            "1/1 [==============================] - ETA: 0s - loss: 0.2465"
          ]
        },
        {
          "output_type": "stream",
          "name": "stderr",
          "text": [
            "WARNING:tensorflow:Early stopping conditioned on metric `train_loss` which is not available. Available metrics are: loss\n",
            "WARNING:tensorflow:Learning rate reduction is conditioned on metric `train_loss` which is not available. Available metrics are: loss,lr\n",
            "WARNING:tensorflow:Can save best model only with train_loss available, skipping.\n"
          ]
        },
        {
          "output_type": "stream",
          "name": "stdout",
          "text": [
            "\b\b\b\b\b\b\b\b\b\b\b\b\b\b\b\b\b\b\b\b\b\b\b\b\b\b\b\b\b\b\b\b\b\b\b\b\b\b\b\b\b\b\b\b\b\b\b\b\b\b\b\b\b\b\b\b\b\b\b\b\b\r1/1 [==============================] - 0s 18ms/step - loss: 0.2465 - lr: 0.0010\n",
            "Epoch 40/100\n",
            "1/1 [==============================] - ETA: 0s - loss: 0.2107"
          ]
        },
        {
          "output_type": "stream",
          "name": "stderr",
          "text": [
            "WARNING:tensorflow:Early stopping conditioned on metric `train_loss` which is not available. Available metrics are: loss\n",
            "WARNING:tensorflow:Learning rate reduction is conditioned on metric `train_loss` which is not available. Available metrics are: loss,lr\n",
            "WARNING:tensorflow:Can save best model only with train_loss available, skipping.\n"
          ]
        },
        {
          "output_type": "stream",
          "name": "stdout",
          "text": [
            "\b\b\b\b\b\b\b\b\b\b\b\b\b\b\b\b\b\b\b\b\b\b\b\b\b\b\b\b\b\b\b\b\b\b\b\b\b\b\b\b\b\b\b\b\b\b\b\b\b\b\b\b\b\b\b\b\b\b\b\b\b\r1/1 [==============================] - 0s 24ms/step - loss: 0.2107 - lr: 0.0010\n",
            "Epoch 41/100\n",
            "1/1 [==============================] - ETA: 0s - loss: 0.2179"
          ]
        },
        {
          "output_type": "stream",
          "name": "stderr",
          "text": [
            "WARNING:tensorflow:Early stopping conditioned on metric `train_loss` which is not available. Available metrics are: loss\n",
            "WARNING:tensorflow:Learning rate reduction is conditioned on metric `train_loss` which is not available. Available metrics are: loss,lr\n",
            "WARNING:tensorflow:Can save best model only with train_loss available, skipping.\n"
          ]
        },
        {
          "output_type": "stream",
          "name": "stdout",
          "text": [
            "\b\b\b\b\b\b\b\b\b\b\b\b\b\b\b\b\b\b\b\b\b\b\b\b\b\b\b\b\b\b\b\b\b\b\b\b\b\b\b\b\b\b\b\b\b\b\b\b\b\b\b\b\b\b\b\b\b\b\b\b\b\r1/1 [==============================] - 0s 15ms/step - loss: 0.2179 - lr: 0.0010\n",
            "Epoch 42/100\n",
            "1/1 [==============================] - ETA: 0s - loss: 0.2130"
          ]
        },
        {
          "output_type": "stream",
          "name": "stderr",
          "text": [
            "WARNING:tensorflow:Early stopping conditioned on metric `train_loss` which is not available. Available metrics are: loss\n",
            "WARNING:tensorflow:Learning rate reduction is conditioned on metric `train_loss` which is not available. Available metrics are: loss,lr\n",
            "WARNING:tensorflow:Can save best model only with train_loss available, skipping.\n"
          ]
        },
        {
          "output_type": "stream",
          "name": "stdout",
          "text": [
            "\b\b\b\b\b\b\b\b\b\b\b\b\b\b\b\b\b\b\b\b\b\b\b\b\b\b\b\b\b\b\b\b\b\b\b\b\b\b\b\b\b\b\b\b\b\b\b\b\b\b\b\b\b\b\b\b\b\b\b\b\b\r1/1 [==============================] - 0s 17ms/step - loss: 0.2130 - lr: 0.0010\n",
            "Epoch 43/100\n",
            "1/1 [==============================] - ETA: 0s - loss: 0.1753"
          ]
        },
        {
          "output_type": "stream",
          "name": "stderr",
          "text": [
            "WARNING:tensorflow:Early stopping conditioned on metric `train_loss` which is not available. Available metrics are: loss\n",
            "WARNING:tensorflow:Learning rate reduction is conditioned on metric `train_loss` which is not available. Available metrics are: loss,lr\n",
            "WARNING:tensorflow:Can save best model only with train_loss available, skipping.\n"
          ]
        },
        {
          "output_type": "stream",
          "name": "stdout",
          "text": [
            "\b\b\b\b\b\b\b\b\b\b\b\b\b\b\b\b\b\b\b\b\b\b\b\b\b\b\b\b\b\b\b\b\b\b\b\b\b\b\b\b\b\b\b\b\b\b\b\b\b\b\b\b\b\b\b\b\b\b\b\b\b\r1/1 [==============================] - 0s 22ms/step - loss: 0.1753 - lr: 0.0010\n",
            "Epoch 44/100\n",
            "1/1 [==============================] - ETA: 0s - loss: 0.2374"
          ]
        },
        {
          "output_type": "stream",
          "name": "stderr",
          "text": [
            "WARNING:tensorflow:Early stopping conditioned on metric `train_loss` which is not available. Available metrics are: loss\n",
            "WARNING:tensorflow:Learning rate reduction is conditioned on metric `train_loss` which is not available. Available metrics are: loss,lr\n",
            "WARNING:tensorflow:Can save best model only with train_loss available, skipping.\n"
          ]
        },
        {
          "output_type": "stream",
          "name": "stdout",
          "text": [
            "\b\b\b\b\b\b\b\b\b\b\b\b\b\b\b\b\b\b\b\b\b\b\b\b\b\b\b\b\b\b\b\b\b\b\b\b\b\b\b\b\b\b\b\b\b\b\b\b\b\b\b\b\b\b\b\b\b\b\b\b\b\r1/1 [==============================] - 0s 14ms/step - loss: 0.2374 - lr: 0.0010\n",
            "Epoch 45/100\n",
            "1/1 [==============================] - ETA: 0s - loss: 0.1921"
          ]
        },
        {
          "output_type": "stream",
          "name": "stderr",
          "text": [
            "WARNING:tensorflow:Early stopping conditioned on metric `train_loss` which is not available. Available metrics are: loss\n",
            "WARNING:tensorflow:Learning rate reduction is conditioned on metric `train_loss` which is not available. Available metrics are: loss,lr\n",
            "WARNING:tensorflow:Can save best model only with train_loss available, skipping.\n"
          ]
        },
        {
          "output_type": "stream",
          "name": "stdout",
          "text": [
            "\b\b\b\b\b\b\b\b\b\b\b\b\b\b\b\b\b\b\b\b\b\b\b\b\b\b\b\b\b\b\b\b\b\b\b\b\b\b\b\b\b\b\b\b\b\b\b\b\b\b\b\b\b\b\b\b\b\b\b\b\b\r1/1 [==============================] - 0s 15ms/step - loss: 0.1921 - lr: 0.0010\n",
            "Epoch 46/100\n",
            "1/1 [==============================] - ETA: 0s - loss: 0.1436"
          ]
        },
        {
          "output_type": "stream",
          "name": "stderr",
          "text": [
            "WARNING:tensorflow:Early stopping conditioned on metric `train_loss` which is not available. Available metrics are: loss\n",
            "WARNING:tensorflow:Learning rate reduction is conditioned on metric `train_loss` which is not available. Available metrics are: loss,lr\n",
            "WARNING:tensorflow:Can save best model only with train_loss available, skipping.\n"
          ]
        },
        {
          "output_type": "stream",
          "name": "stdout",
          "text": [
            "\b\b\b\b\b\b\b\b\b\b\b\b\b\b\b\b\b\b\b\b\b\b\b\b\b\b\b\b\b\b\b\b\b\b\b\b\b\b\b\b\b\b\b\b\b\b\b\b\b\b\b\b\b\b\b\b\b\b\b\b\b\r1/1 [==============================] - 0s 17ms/step - loss: 0.1436 - lr: 0.0010\n",
            "Epoch 47/100\n",
            "1/1 [==============================] - ETA: 0s - loss: 0.1645"
          ]
        },
        {
          "output_type": "stream",
          "name": "stderr",
          "text": [
            "WARNING:tensorflow:Early stopping conditioned on metric `train_loss` which is not available. Available metrics are: loss\n",
            "WARNING:tensorflow:Learning rate reduction is conditioned on metric `train_loss` which is not available. Available metrics are: loss,lr\n",
            "WARNING:tensorflow:Can save best model only with train_loss available, skipping.\n"
          ]
        },
        {
          "output_type": "stream",
          "name": "stdout",
          "text": [
            "\b\b\b\b\b\b\b\b\b\b\b\b\b\b\b\b\b\b\b\b\b\b\b\b\b\b\b\b\b\b\b\b\b\b\b\b\b\b\b\b\b\b\b\b\b\b\b\b\b\b\b\b\b\b\b\b\b\b\b\b\b\r1/1 [==============================] - 0s 16ms/step - loss: 0.1645 - lr: 0.0010\n",
            "Epoch 48/100\n",
            "1/1 [==============================] - ETA: 0s - loss: 0.1813"
          ]
        },
        {
          "output_type": "stream",
          "name": "stderr",
          "text": [
            "WARNING:tensorflow:Early stopping conditioned on metric `train_loss` which is not available. Available metrics are: loss\n",
            "WARNING:tensorflow:Learning rate reduction is conditioned on metric `train_loss` which is not available. Available metrics are: loss,lr\n",
            "WARNING:tensorflow:Can save best model only with train_loss available, skipping.\n"
          ]
        },
        {
          "output_type": "stream",
          "name": "stdout",
          "text": [
            "\b\b\b\b\b\b\b\b\b\b\b\b\b\b\b\b\b\b\b\b\b\b\b\b\b\b\b\b\b\b\b\b\b\b\b\b\b\b\b\b\b\b\b\b\b\b\b\b\b\b\b\b\b\b\b\b\b\b\b\b\b\r1/1 [==============================] - 0s 17ms/step - loss: 0.1813 - lr: 0.0010\n",
            "Epoch 49/100\n",
            "1/1 [==============================] - ETA: 0s - loss: 0.1847"
          ]
        },
        {
          "output_type": "stream",
          "name": "stderr",
          "text": [
            "WARNING:tensorflow:Early stopping conditioned on metric `train_loss` which is not available. Available metrics are: loss\n",
            "WARNING:tensorflow:Learning rate reduction is conditioned on metric `train_loss` which is not available. Available metrics are: loss,lr\n",
            "WARNING:tensorflow:Can save best model only with train_loss available, skipping.\n"
          ]
        },
        {
          "output_type": "stream",
          "name": "stdout",
          "text": [
            "\b\b\b\b\b\b\b\b\b\b\b\b\b\b\b\b\b\b\b\b\b\b\b\b\b\b\b\b\b\b\b\b\b\b\b\b\b\b\b\b\b\b\b\b\b\b\b\b\b\b\b\b\b\b\b\b\b\b\b\b\b\r1/1 [==============================] - 0s 24ms/step - loss: 0.1847 - lr: 0.0010\n",
            "Epoch 50/100\n",
            "1/1 [==============================] - ETA: 0s - loss: 0.1868"
          ]
        },
        {
          "output_type": "stream",
          "name": "stderr",
          "text": [
            "WARNING:tensorflow:Early stopping conditioned on metric `train_loss` which is not available. Available metrics are: loss\n",
            "WARNING:tensorflow:Learning rate reduction is conditioned on metric `train_loss` which is not available. Available metrics are: loss,lr\n",
            "WARNING:tensorflow:Can save best model only with train_loss available, skipping.\n"
          ]
        },
        {
          "output_type": "stream",
          "name": "stdout",
          "text": [
            "\b\b\b\b\b\b\b\b\b\b\b\b\b\b\b\b\b\b\b\b\b\b\b\b\b\b\b\b\b\b\b\b\b\b\b\b\b\b\b\b\b\b\b\b\b\b\b\b\b\b\b\b\b\b\b\b\b\b\b\b\b\r1/1 [==============================] - 0s 18ms/step - loss: 0.1868 - lr: 0.0010\n",
            "Epoch 51/100\n",
            "1/1 [==============================] - ETA: 0s - loss: 0.1720"
          ]
        },
        {
          "output_type": "stream",
          "name": "stderr",
          "text": [
            "WARNING:tensorflow:Early stopping conditioned on metric `train_loss` which is not available. Available metrics are: loss\n",
            "WARNING:tensorflow:Learning rate reduction is conditioned on metric `train_loss` which is not available. Available metrics are: loss,lr\n",
            "WARNING:tensorflow:Can save best model only with train_loss available, skipping.\n"
          ]
        },
        {
          "output_type": "stream",
          "name": "stdout",
          "text": [
            "\b\b\b\b\b\b\b\b\b\b\b\b\b\b\b\b\b\b\b\b\b\b\b\b\b\b\b\b\b\b\b\b\b\b\b\b\b\b\b\b\b\b\b\b\b\b\b\b\b\b\b\b\b\b\b\b\b\b\b\b\b\r1/1 [==============================] - 0s 16ms/step - loss: 0.1720 - lr: 0.0010\n",
            "Epoch 52/100\n",
            "1/1 [==============================] - ETA: 0s - loss: 0.1634"
          ]
        },
        {
          "output_type": "stream",
          "name": "stderr",
          "text": [
            "WARNING:tensorflow:Early stopping conditioned on metric `train_loss` which is not available. Available metrics are: loss\n",
            "WARNING:tensorflow:Learning rate reduction is conditioned on metric `train_loss` which is not available. Available metrics are: loss,lr\n",
            "WARNING:tensorflow:Can save best model only with train_loss available, skipping.\n"
          ]
        },
        {
          "output_type": "stream",
          "name": "stdout",
          "text": [
            "\b\b\b\b\b\b\b\b\b\b\b\b\b\b\b\b\b\b\b\b\b\b\b\b\b\b\b\b\b\b\b\b\b\b\b\b\b\b\b\b\b\b\b\b\b\b\b\b\b\b\b\b\b\b\b\b\b\b\b\b\b\r1/1 [==============================] - 0s 17ms/step - loss: 0.1634 - lr: 0.0010\n",
            "Epoch 53/100\n",
            "1/1 [==============================] - ETA: 0s - loss: 0.1779"
          ]
        },
        {
          "output_type": "stream",
          "name": "stderr",
          "text": [
            "WARNING:tensorflow:Early stopping conditioned on metric `train_loss` which is not available. Available metrics are: loss\n",
            "WARNING:tensorflow:Learning rate reduction is conditioned on metric `train_loss` which is not available. Available metrics are: loss,lr\n",
            "WARNING:tensorflow:Can save best model only with train_loss available, skipping.\n"
          ]
        },
        {
          "output_type": "stream",
          "name": "stdout",
          "text": [
            "\b\b\b\b\b\b\b\b\b\b\b\b\b\b\b\b\b\b\b\b\b\b\b\b\b\b\b\b\b\b\b\b\b\b\b\b\b\b\b\b\b\b\b\b\b\b\b\b\b\b\b\b\b\b\b\b\b\b\b\b\b\r1/1 [==============================] - 0s 26ms/step - loss: 0.1779 - lr: 0.0010\n",
            "Epoch 54/100\n",
            "1/1 [==============================] - ETA: 0s - loss: 0.1636"
          ]
        },
        {
          "output_type": "stream",
          "name": "stderr",
          "text": [
            "WARNING:tensorflow:Early stopping conditioned on metric `train_loss` which is not available. Available metrics are: loss\n",
            "WARNING:tensorflow:Learning rate reduction is conditioned on metric `train_loss` which is not available. Available metrics are: loss,lr\n",
            "WARNING:tensorflow:Can save best model only with train_loss available, skipping.\n"
          ]
        },
        {
          "output_type": "stream",
          "name": "stdout",
          "text": [
            "\b\b\b\b\b\b\b\b\b\b\b\b\b\b\b\b\b\b\b\b\b\b\b\b\b\b\b\b\b\b\b\b\b\b\b\b\b\b\b\b\b\b\b\b\b\b\b\b\b\b\b\b\b\b\b\b\b\b\b\b\b\r1/1 [==============================] - 0s 23ms/step - loss: 0.1636 - lr: 0.0010\n",
            "Epoch 55/100\n",
            "1/1 [==============================] - ETA: 0s - loss: 0.1958"
          ]
        },
        {
          "output_type": "stream",
          "name": "stderr",
          "text": [
            "WARNING:tensorflow:Early stopping conditioned on metric `train_loss` which is not available. Available metrics are: loss\n",
            "WARNING:tensorflow:Learning rate reduction is conditioned on metric `train_loss` which is not available. Available metrics are: loss,lr\n",
            "WARNING:tensorflow:Can save best model only with train_loss available, skipping.\n"
          ]
        },
        {
          "output_type": "stream",
          "name": "stdout",
          "text": [
            "\b\b\b\b\b\b\b\b\b\b\b\b\b\b\b\b\b\b\b\b\b\b\b\b\b\b\b\b\b\b\b\b\b\b\b\b\b\b\b\b\b\b\b\b\b\b\b\b\b\b\b\b\b\b\b\b\b\b\b\b\b\r1/1 [==============================] - 0s 26ms/step - loss: 0.1958 - lr: 0.0010\n",
            "Epoch 56/100\n",
            "1/1 [==============================] - ETA: 0s - loss: 0.1506"
          ]
        },
        {
          "output_type": "stream",
          "name": "stderr",
          "text": [
            "WARNING:tensorflow:Early stopping conditioned on metric `train_loss` which is not available. Available metrics are: loss\n",
            "WARNING:tensorflow:Learning rate reduction is conditioned on metric `train_loss` which is not available. Available metrics are: loss,lr\n",
            "WARNING:tensorflow:Can save best model only with train_loss available, skipping.\n"
          ]
        },
        {
          "output_type": "stream",
          "name": "stdout",
          "text": [
            "\b\b\b\b\b\b\b\b\b\b\b\b\b\b\b\b\b\b\b\b\b\b\b\b\b\b\b\b\b\b\b\b\b\b\b\b\b\b\b\b\b\b\b\b\b\b\b\b\b\b\b\b\b\b\b\b\b\b\b\b\b\r1/1 [==============================] - 0s 17ms/step - loss: 0.1506 - lr: 0.0010\n",
            "Epoch 57/100\n",
            "1/1 [==============================] - ETA: 0s - loss: 0.2065"
          ]
        },
        {
          "output_type": "stream",
          "name": "stderr",
          "text": [
            "WARNING:tensorflow:Early stopping conditioned on metric `train_loss` which is not available. Available metrics are: loss\n",
            "WARNING:tensorflow:Learning rate reduction is conditioned on metric `train_loss` which is not available. Available metrics are: loss,lr\n",
            "WARNING:tensorflow:Can save best model only with train_loss available, skipping.\n"
          ]
        },
        {
          "output_type": "stream",
          "name": "stdout",
          "text": [
            "\b\b\b\b\b\b\b\b\b\b\b\b\b\b\b\b\b\b\b\b\b\b\b\b\b\b\b\b\b\b\b\b\b\b\b\b\b\b\b\b\b\b\b\b\b\b\b\b\b\b\b\b\b\b\b\b\b\b\b\b\b\r1/1 [==============================] - 0s 16ms/step - loss: 0.2065 - lr: 0.0010\n",
            "Epoch 58/100\n",
            "1/1 [==============================] - ETA: 0s - loss: 0.1682"
          ]
        },
        {
          "output_type": "stream",
          "name": "stderr",
          "text": [
            "WARNING:tensorflow:Early stopping conditioned on metric `train_loss` which is not available. Available metrics are: loss\n",
            "WARNING:tensorflow:Learning rate reduction is conditioned on metric `train_loss` which is not available. Available metrics are: loss,lr\n",
            "WARNING:tensorflow:Can save best model only with train_loss available, skipping.\n"
          ]
        },
        {
          "output_type": "stream",
          "name": "stdout",
          "text": [
            "\b\b\b\b\b\b\b\b\b\b\b\b\b\b\b\b\b\b\b\b\b\b\b\b\b\b\b\b\b\b\b\b\b\b\b\b\b\b\b\b\b\b\b\b\b\b\b\b\b\b\b\b\b\b\b\b\b\b\b\b\b\r1/1 [==============================] - 0s 15ms/step - loss: 0.1682 - lr: 0.0010\n",
            "Epoch 59/100\n",
            "1/1 [==============================] - ETA: 0s - loss: 0.1821"
          ]
        },
        {
          "output_type": "stream",
          "name": "stderr",
          "text": [
            "WARNING:tensorflow:Early stopping conditioned on metric `train_loss` which is not available. Available metrics are: loss\n",
            "WARNING:tensorflow:Learning rate reduction is conditioned on metric `train_loss` which is not available. Available metrics are: loss,lr\n",
            "WARNING:tensorflow:Can save best model only with train_loss available, skipping.\n"
          ]
        },
        {
          "output_type": "stream",
          "name": "stdout",
          "text": [
            "\b\b\b\b\b\b\b\b\b\b\b\b\b\b\b\b\b\b\b\b\b\b\b\b\b\b\b\b\b\b\b\b\b\b\b\b\b\b\b\b\b\b\b\b\b\b\b\b\b\b\b\b\b\b\b\b\b\b\b\b\b\r1/1 [==============================] - 0s 23ms/step - loss: 0.1821 - lr: 0.0010\n",
            "Epoch 60/100\n",
            "1/1 [==============================] - ETA: 0s - loss: 0.1579"
          ]
        },
        {
          "output_type": "stream",
          "name": "stderr",
          "text": [
            "WARNING:tensorflow:Early stopping conditioned on metric `train_loss` which is not available. Available metrics are: loss\n",
            "WARNING:tensorflow:Learning rate reduction is conditioned on metric `train_loss` which is not available. Available metrics are: loss,lr\n",
            "WARNING:tensorflow:Can save best model only with train_loss available, skipping.\n"
          ]
        },
        {
          "output_type": "stream",
          "name": "stdout",
          "text": [
            "\b\b\b\b\b\b\b\b\b\b\b\b\b\b\b\b\b\b\b\b\b\b\b\b\b\b\b\b\b\b\b\b\b\b\b\b\b\b\b\b\b\b\b\b\b\b\b\b\b\b\b\b\b\b\b\b\b\b\b\b\b\r1/1 [==============================] - 0s 21ms/step - loss: 0.1579 - lr: 0.0010\n",
            "Epoch 61/100\n",
            "1/1 [==============================] - ETA: 0s - loss: 0.1564"
          ]
        },
        {
          "output_type": "stream",
          "name": "stderr",
          "text": [
            "WARNING:tensorflow:Early stopping conditioned on metric `train_loss` which is not available. Available metrics are: loss\n",
            "WARNING:tensorflow:Learning rate reduction is conditioned on metric `train_loss` which is not available. Available metrics are: loss,lr\n",
            "WARNING:tensorflow:Can save best model only with train_loss available, skipping.\n"
          ]
        },
        {
          "output_type": "stream",
          "name": "stdout",
          "text": [
            "\b\b\b\b\b\b\b\b\b\b\b\b\b\b\b\b\b\b\b\b\b\b\b\b\b\b\b\b\b\b\b\b\b\b\b\b\b\b\b\b\b\b\b\b\b\b\b\b\b\b\b\b\b\b\b\b\b\b\b\b\b\r1/1 [==============================] - 0s 21ms/step - loss: 0.1564 - lr: 0.0010\n",
            "Epoch 62/100\n",
            "1/1 [==============================] - ETA: 0s - loss: 0.1581"
          ]
        },
        {
          "output_type": "stream",
          "name": "stderr",
          "text": [
            "WARNING:tensorflow:Early stopping conditioned on metric `train_loss` which is not available. Available metrics are: loss\n",
            "WARNING:tensorflow:Learning rate reduction is conditioned on metric `train_loss` which is not available. Available metrics are: loss,lr\n",
            "WARNING:tensorflow:Can save best model only with train_loss available, skipping.\n"
          ]
        },
        {
          "output_type": "stream",
          "name": "stdout",
          "text": [
            "\b\b\b\b\b\b\b\b\b\b\b\b\b\b\b\b\b\b\b\b\b\b\b\b\b\b\b\b\b\b\b\b\b\b\b\b\b\b\b\b\b\b\b\b\b\b\b\b\b\b\b\b\b\b\b\b\b\b\b\b\b\r1/1 [==============================] - 0s 16ms/step - loss: 0.1581 - lr: 0.0010\n",
            "Epoch 63/100\n",
            "1/1 [==============================] - ETA: 0s - loss: 0.1419"
          ]
        },
        {
          "output_type": "stream",
          "name": "stderr",
          "text": [
            "WARNING:tensorflow:Early stopping conditioned on metric `train_loss` which is not available. Available metrics are: loss\n",
            "WARNING:tensorflow:Learning rate reduction is conditioned on metric `train_loss` which is not available. Available metrics are: loss,lr\n",
            "WARNING:tensorflow:Can save best model only with train_loss available, skipping.\n"
          ]
        },
        {
          "output_type": "stream",
          "name": "stdout",
          "text": [
            "\b\b\b\b\b\b\b\b\b\b\b\b\b\b\b\b\b\b\b\b\b\b\b\b\b\b\b\b\b\b\b\b\b\b\b\b\b\b\b\b\b\b\b\b\b\b\b\b\b\b\b\b\b\b\b\b\b\b\b\b\b\r1/1 [==============================] - 0s 14ms/step - loss: 0.1419 - lr: 0.0010\n",
            "Epoch 64/100\n",
            "1/1 [==============================] - ETA: 0s - loss: 0.1570"
          ]
        },
        {
          "output_type": "stream",
          "name": "stderr",
          "text": [
            "WARNING:tensorflow:Early stopping conditioned on metric `train_loss` which is not available. Available metrics are: loss\n",
            "WARNING:tensorflow:Learning rate reduction is conditioned on metric `train_loss` which is not available. Available metrics are: loss,lr\n",
            "WARNING:tensorflow:Can save best model only with train_loss available, skipping.\n"
          ]
        },
        {
          "output_type": "stream",
          "name": "stdout",
          "text": [
            "\b\b\b\b\b\b\b\b\b\b\b\b\b\b\b\b\b\b\b\b\b\b\b\b\b\b\b\b\b\b\b\b\b\b\b\b\b\b\b\b\b\b\b\b\b\b\b\b\b\b\b\b\b\b\b\b\b\b\b\b\b\r1/1 [==============================] - 0s 15ms/step - loss: 0.1570 - lr: 0.0010\n",
            "Epoch 65/100\n",
            "1/1 [==============================] - ETA: 0s - loss: 0.1846"
          ]
        },
        {
          "output_type": "stream",
          "name": "stderr",
          "text": [
            "WARNING:tensorflow:Early stopping conditioned on metric `train_loss` which is not available. Available metrics are: loss\n",
            "WARNING:tensorflow:Learning rate reduction is conditioned on metric `train_loss` which is not available. Available metrics are: loss,lr\n",
            "WARNING:tensorflow:Can save best model only with train_loss available, skipping.\n"
          ]
        },
        {
          "output_type": "stream",
          "name": "stdout",
          "text": [
            "\b\b\b\b\b\b\b\b\b\b\b\b\b\b\b\b\b\b\b\b\b\b\b\b\b\b\b\b\b\b\b\b\b\b\b\b\b\b\b\b\b\b\b\b\b\b\b\b\b\b\b\b\b\b\b\b\b\b\b\b\b\r1/1 [==============================] - 0s 14ms/step - loss: 0.1846 - lr: 0.0010\n",
            "Epoch 66/100\n",
            "1/1 [==============================] - ETA: 0s - loss: 0.1502"
          ]
        },
        {
          "output_type": "stream",
          "name": "stderr",
          "text": [
            "WARNING:tensorflow:Early stopping conditioned on metric `train_loss` which is not available. Available metrics are: loss\n",
            "WARNING:tensorflow:Learning rate reduction is conditioned on metric `train_loss` which is not available. Available metrics are: loss,lr\n",
            "WARNING:tensorflow:Can save best model only with train_loss available, skipping.\n"
          ]
        },
        {
          "output_type": "stream",
          "name": "stdout",
          "text": [
            "\b\b\b\b\b\b\b\b\b\b\b\b\b\b\b\b\b\b\b\b\b\b\b\b\b\b\b\b\b\b\b\b\b\b\b\b\b\b\b\b\b\b\b\b\b\b\b\b\b\b\b\b\b\b\b\b\b\b\b\b\b\r1/1 [==============================] - 0s 15ms/step - loss: 0.1502 - lr: 0.0010\n",
            "Epoch 67/100\n",
            "1/1 [==============================] - ETA: 0s - loss: 0.1702"
          ]
        },
        {
          "output_type": "stream",
          "name": "stderr",
          "text": [
            "WARNING:tensorflow:Early stopping conditioned on metric `train_loss` which is not available. Available metrics are: loss\n",
            "WARNING:tensorflow:Learning rate reduction is conditioned on metric `train_loss` which is not available. Available metrics are: loss,lr\n",
            "WARNING:tensorflow:Can save best model only with train_loss available, skipping.\n"
          ]
        },
        {
          "output_type": "stream",
          "name": "stdout",
          "text": [
            "\b\b\b\b\b\b\b\b\b\b\b\b\b\b\b\b\b\b\b\b\b\b\b\b\b\b\b\b\b\b\b\b\b\b\b\b\b\b\b\b\b\b\b\b\b\b\b\b\b\b\b\b\b\b\b\b\b\b\b\b\b\r1/1 [==============================] - 0s 15ms/step - loss: 0.1702 - lr: 0.0010\n",
            "Epoch 68/100\n",
            "1/1 [==============================] - ETA: 0s - loss: 0.1342"
          ]
        },
        {
          "output_type": "stream",
          "name": "stderr",
          "text": [
            "WARNING:tensorflow:Early stopping conditioned on metric `train_loss` which is not available. Available metrics are: loss\n",
            "WARNING:tensorflow:Learning rate reduction is conditioned on metric `train_loss` which is not available. Available metrics are: loss,lr\n",
            "WARNING:tensorflow:Can save best model only with train_loss available, skipping.\n"
          ]
        },
        {
          "output_type": "stream",
          "name": "stdout",
          "text": [
            "\b\b\b\b\b\b\b\b\b\b\b\b\b\b\b\b\b\b\b\b\b\b\b\b\b\b\b\b\b\b\b\b\b\b\b\b\b\b\b\b\b\b\b\b\b\b\b\b\b\b\b\b\b\b\b\b\b\b\b\b\b\r1/1 [==============================] - 0s 15ms/step - loss: 0.1342 - lr: 0.0010\n",
            "Epoch 69/100\n",
            "1/1 [==============================] - ETA: 0s - loss: 0.1666"
          ]
        },
        {
          "output_type": "stream",
          "name": "stderr",
          "text": [
            "WARNING:tensorflow:Early stopping conditioned on metric `train_loss` which is not available. Available metrics are: loss\n",
            "WARNING:tensorflow:Learning rate reduction is conditioned on metric `train_loss` which is not available. Available metrics are: loss,lr\n",
            "WARNING:tensorflow:Can save best model only with train_loss available, skipping.\n"
          ]
        },
        {
          "output_type": "stream",
          "name": "stdout",
          "text": [
            "\b\b\b\b\b\b\b\b\b\b\b\b\b\b\b\b\b\b\b\b\b\b\b\b\b\b\b\b\b\b\b\b\b\b\b\b\b\b\b\b\b\b\b\b\b\b\b\b\b\b\b\b\b\b\b\b\b\b\b\b\b\r1/1 [==============================] - 0s 15ms/step - loss: 0.1666 - lr: 0.0010\n",
            "Epoch 70/100\n",
            "1/1 [==============================] - ETA: 0s - loss: 0.1540"
          ]
        },
        {
          "output_type": "stream",
          "name": "stderr",
          "text": [
            "WARNING:tensorflow:Early stopping conditioned on metric `train_loss` which is not available. Available metrics are: loss\n",
            "WARNING:tensorflow:Learning rate reduction is conditioned on metric `train_loss` which is not available. Available metrics are: loss,lr\n",
            "WARNING:tensorflow:Can save best model only with train_loss available, skipping.\n"
          ]
        },
        {
          "output_type": "stream",
          "name": "stdout",
          "text": [
            "\b\b\b\b\b\b\b\b\b\b\b\b\b\b\b\b\b\b\b\b\b\b\b\b\b\b\b\b\b\b\b\b\b\b\b\b\b\b\b\b\b\b\b\b\b\b\b\b\b\b\b\b\b\b\b\b\b\b\b\b\b\r1/1 [==============================] - 0s 15ms/step - loss: 0.1540 - lr: 0.0010\n",
            "Epoch 71/100\n",
            "1/1 [==============================] - ETA: 0s - loss: 0.1553"
          ]
        },
        {
          "output_type": "stream",
          "name": "stderr",
          "text": [
            "WARNING:tensorflow:Early stopping conditioned on metric `train_loss` which is not available. Available metrics are: loss\n",
            "WARNING:tensorflow:Learning rate reduction is conditioned on metric `train_loss` which is not available. Available metrics are: loss,lr\n",
            "WARNING:tensorflow:Can save best model only with train_loss available, skipping.\n"
          ]
        },
        {
          "output_type": "stream",
          "name": "stdout",
          "text": [
            "\b\b\b\b\b\b\b\b\b\b\b\b\b\b\b\b\b\b\b\b\b\b\b\b\b\b\b\b\b\b\b\b\b\b\b\b\b\b\b\b\b\b\b\b\b\b\b\b\b\b\b\b\b\b\b\b\b\b\b\b\b\r1/1 [==============================] - 0s 16ms/step - loss: 0.1553 - lr: 0.0010\n",
            "Epoch 72/100\n",
            "1/1 [==============================] - ETA: 0s - loss: 0.1436"
          ]
        },
        {
          "output_type": "stream",
          "name": "stderr",
          "text": [
            "WARNING:tensorflow:Early stopping conditioned on metric `train_loss` which is not available. Available metrics are: loss\n",
            "WARNING:tensorflow:Learning rate reduction is conditioned on metric `train_loss` which is not available. Available metrics are: loss,lr\n",
            "WARNING:tensorflow:Can save best model only with train_loss available, skipping.\n"
          ]
        },
        {
          "output_type": "stream",
          "name": "stdout",
          "text": [
            "\b\b\b\b\b\b\b\b\b\b\b\b\b\b\b\b\b\b\b\b\b\b\b\b\b\b\b\b\b\b\b\b\b\b\b\b\b\b\b\b\b\b\b\b\b\b\b\b\b\b\b\b\b\b\b\b\b\b\b\b\b\r1/1 [==============================] - 0s 15ms/step - loss: 0.1436 - lr: 0.0010\n",
            "Epoch 73/100\n",
            "1/1 [==============================] - ETA: 0s - loss: 0.1535"
          ]
        },
        {
          "output_type": "stream",
          "name": "stderr",
          "text": [
            "WARNING:tensorflow:Early stopping conditioned on metric `train_loss` which is not available. Available metrics are: loss\n",
            "WARNING:tensorflow:Learning rate reduction is conditioned on metric `train_loss` which is not available. Available metrics are: loss,lr\n",
            "WARNING:tensorflow:Can save best model only with train_loss available, skipping.\n"
          ]
        },
        {
          "output_type": "stream",
          "name": "stdout",
          "text": [
            "\b\b\b\b\b\b\b\b\b\b\b\b\b\b\b\b\b\b\b\b\b\b\b\b\b\b\b\b\b\b\b\b\b\b\b\b\b\b\b\b\b\b\b\b\b\b\b\b\b\b\b\b\b\b\b\b\b\b\b\b\b\r1/1 [==============================] - 0s 14ms/step - loss: 0.1535 - lr: 0.0010\n",
            "Epoch 74/100\n",
            "1/1 [==============================] - ETA: 0s - loss: 0.1501"
          ]
        },
        {
          "output_type": "stream",
          "name": "stderr",
          "text": [
            "WARNING:tensorflow:Early stopping conditioned on metric `train_loss` which is not available. Available metrics are: loss\n",
            "WARNING:tensorflow:Learning rate reduction is conditioned on metric `train_loss` which is not available. Available metrics are: loss,lr\n",
            "WARNING:tensorflow:Can save best model only with train_loss available, skipping.\n"
          ]
        },
        {
          "output_type": "stream",
          "name": "stdout",
          "text": [
            "\b\b\b\b\b\b\b\b\b\b\b\b\b\b\b\b\b\b\b\b\b\b\b\b\b\b\b\b\b\b\b\b\b\b\b\b\b\b\b\b\b\b\b\b\b\b\b\b\b\b\b\b\b\b\b\b\b\b\b\b\b\r1/1 [==============================] - 0s 15ms/step - loss: 0.1501 - lr: 0.0010\n",
            "Epoch 75/100\n",
            "1/1 [==============================] - ETA: 0s - loss: 0.1541"
          ]
        },
        {
          "output_type": "stream",
          "name": "stderr",
          "text": [
            "WARNING:tensorflow:Early stopping conditioned on metric `train_loss` which is not available. Available metrics are: loss\n",
            "WARNING:tensorflow:Learning rate reduction is conditioned on metric `train_loss` which is not available. Available metrics are: loss,lr\n",
            "WARNING:tensorflow:Can save best model only with train_loss available, skipping.\n"
          ]
        },
        {
          "output_type": "stream",
          "name": "stdout",
          "text": [
            "\b\b\b\b\b\b\b\b\b\b\b\b\b\b\b\b\b\b\b\b\b\b\b\b\b\b\b\b\b\b\b\b\b\b\b\b\b\b\b\b\b\b\b\b\b\b\b\b\b\b\b\b\b\b\b\b\b\b\b\b\b\r1/1 [==============================] - 0s 21ms/step - loss: 0.1541 - lr: 0.0010\n",
            "Epoch 76/100\n",
            "1/1 [==============================] - ETA: 0s - loss: 0.1568"
          ]
        },
        {
          "output_type": "stream",
          "name": "stderr",
          "text": [
            "WARNING:tensorflow:Early stopping conditioned on metric `train_loss` which is not available. Available metrics are: loss\n",
            "WARNING:tensorflow:Learning rate reduction is conditioned on metric `train_loss` which is not available. Available metrics are: loss,lr\n",
            "WARNING:tensorflow:Can save best model only with train_loss available, skipping.\n"
          ]
        },
        {
          "output_type": "stream",
          "name": "stdout",
          "text": [
            "\b\b\b\b\b\b\b\b\b\b\b\b\b\b\b\b\b\b\b\b\b\b\b\b\b\b\b\b\b\b\b\b\b\b\b\b\b\b\b\b\b\b\b\b\b\b\b\b\b\b\b\b\b\b\b\b\b\b\b\b\b\r1/1 [==============================] - 0s 36ms/step - loss: 0.1568 - lr: 0.0010\n",
            "Epoch 77/100\n",
            "1/1 [==============================] - ETA: 0s - loss: 0.1732"
          ]
        },
        {
          "output_type": "stream",
          "name": "stderr",
          "text": [
            "WARNING:tensorflow:Early stopping conditioned on metric `train_loss` which is not available. Available metrics are: loss\n",
            "WARNING:tensorflow:Learning rate reduction is conditioned on metric `train_loss` which is not available. Available metrics are: loss,lr\n",
            "WARNING:tensorflow:Can save best model only with train_loss available, skipping.\n"
          ]
        },
        {
          "output_type": "stream",
          "name": "stdout",
          "text": [
            "\b\b\b\b\b\b\b\b\b\b\b\b\b\b\b\b\b\b\b\b\b\b\b\b\b\b\b\b\b\b\b\b\b\b\b\b\b\b\b\b\b\b\b\b\b\b\b\b\b\b\b\b\b\b\b\b\b\b\b\b\b\r1/1 [==============================] - 0s 28ms/step - loss: 0.1732 - lr: 0.0010\n",
            "Epoch 78/100\n",
            "1/1 [==============================] - ETA: 0s - loss: 0.1591"
          ]
        },
        {
          "output_type": "stream",
          "name": "stderr",
          "text": [
            "WARNING:tensorflow:Early stopping conditioned on metric `train_loss` which is not available. Available metrics are: loss\n",
            "WARNING:tensorflow:Learning rate reduction is conditioned on metric `train_loss` which is not available. Available metrics are: loss,lr\n",
            "WARNING:tensorflow:Can save best model only with train_loss available, skipping.\n"
          ]
        },
        {
          "output_type": "stream",
          "name": "stdout",
          "text": [
            "\b\b\b\b\b\b\b\b\b\b\b\b\b\b\b\b\b\b\b\b\b\b\b\b\b\b\b\b\b\b\b\b\b\b\b\b\b\b\b\b\b\b\b\b\b\b\b\b\b\b\b\b\b\b\b\b\b\b\b\b\b\r1/1 [==============================] - 0s 30ms/step - loss: 0.1591 - lr: 0.0010\n",
            "Epoch 79/100\n",
            "1/1 [==============================] - ETA: 0s - loss: 0.1537"
          ]
        },
        {
          "output_type": "stream",
          "name": "stderr",
          "text": [
            "WARNING:tensorflow:Early stopping conditioned on metric `train_loss` which is not available. Available metrics are: loss\n",
            "WARNING:tensorflow:Learning rate reduction is conditioned on metric `train_loss` which is not available. Available metrics are: loss,lr\n",
            "WARNING:tensorflow:Can save best model only with train_loss available, skipping.\n"
          ]
        },
        {
          "output_type": "stream",
          "name": "stdout",
          "text": [
            "\b\b\b\b\b\b\b\b\b\b\b\b\b\b\b\b\b\b\b\b\b\b\b\b\b\b\b\b\b\b\b\b\b\b\b\b\b\b\b\b\b\b\b\b\b\b\b\b\b\b\b\b\b\b\b\b\b\b\b\b\b\r1/1 [==============================] - 0s 28ms/step - loss: 0.1537 - lr: 0.0010\n",
            "Epoch 80/100\n",
            "1/1 [==============================] - ETA: 0s - loss: 0.1430"
          ]
        },
        {
          "output_type": "stream",
          "name": "stderr",
          "text": [
            "WARNING:tensorflow:Early stopping conditioned on metric `train_loss` which is not available. Available metrics are: loss\n",
            "WARNING:tensorflow:Learning rate reduction is conditioned on metric `train_loss` which is not available. Available metrics are: loss,lr\n",
            "WARNING:tensorflow:Can save best model only with train_loss available, skipping.\n"
          ]
        },
        {
          "output_type": "stream",
          "name": "stdout",
          "text": [
            "\b\b\b\b\b\b\b\b\b\b\b\b\b\b\b\b\b\b\b\b\b\b\b\b\b\b\b\b\b\b\b\b\b\b\b\b\b\b\b\b\b\b\b\b\b\b\b\b\b\b\b\b\b\b\b\b\b\b\b\b\b\r1/1 [==============================] - 0s 35ms/step - loss: 0.1430 - lr: 0.0010\n",
            "Epoch 81/100\n",
            "1/1 [==============================] - ETA: 0s - loss: 0.1566"
          ]
        },
        {
          "output_type": "stream",
          "name": "stderr",
          "text": [
            "WARNING:tensorflow:Early stopping conditioned on metric `train_loss` which is not available. Available metrics are: loss\n",
            "WARNING:tensorflow:Learning rate reduction is conditioned on metric `train_loss` which is not available. Available metrics are: loss,lr\n",
            "WARNING:tensorflow:Can save best model only with train_loss available, skipping.\n"
          ]
        },
        {
          "output_type": "stream",
          "name": "stdout",
          "text": [
            "\b\b\b\b\b\b\b\b\b\b\b\b\b\b\b\b\b\b\b\b\b\b\b\b\b\b\b\b\b\b\b\b\b\b\b\b\b\b\b\b\b\b\b\b\b\b\b\b\b\b\b\b\b\b\b\b\b\b\b\b\b\r1/1 [==============================] - 0s 26ms/step - loss: 0.1566 - lr: 0.0010\n",
            "Epoch 82/100\n",
            "1/1 [==============================] - ETA: 0s - loss: 0.1269"
          ]
        },
        {
          "output_type": "stream",
          "name": "stderr",
          "text": [
            "WARNING:tensorflow:Early stopping conditioned on metric `train_loss` which is not available. Available metrics are: loss\n",
            "WARNING:tensorflow:Learning rate reduction is conditioned on metric `train_loss` which is not available. Available metrics are: loss,lr\n",
            "WARNING:tensorflow:Can save best model only with train_loss available, skipping.\n"
          ]
        },
        {
          "output_type": "stream",
          "name": "stdout",
          "text": [
            "\b\b\b\b\b\b\b\b\b\b\b\b\b\b\b\b\b\b\b\b\b\b\b\b\b\b\b\b\b\b\b\b\b\b\b\b\b\b\b\b\b\b\b\b\b\b\b\b\b\b\b\b\b\b\b\b\b\b\b\b\b\r1/1 [==============================] - 0s 32ms/step - loss: 0.1269 - lr: 0.0010\n",
            "Epoch 83/100\n",
            "1/1 [==============================] - ETA: 0s - loss: 0.1211"
          ]
        },
        {
          "output_type": "stream",
          "name": "stderr",
          "text": [
            "WARNING:tensorflow:Early stopping conditioned on metric `train_loss` which is not available. Available metrics are: loss\n",
            "WARNING:tensorflow:Learning rate reduction is conditioned on metric `train_loss` which is not available. Available metrics are: loss,lr\n",
            "WARNING:tensorflow:Can save best model only with train_loss available, skipping.\n"
          ]
        },
        {
          "output_type": "stream",
          "name": "stdout",
          "text": [
            "\b\b\b\b\b\b\b\b\b\b\b\b\b\b\b\b\b\b\b\b\b\b\b\b\b\b\b\b\b\b\b\b\b\b\b\b\b\b\b\b\b\b\b\b\b\b\b\b\b\b\b\b\b\b\b\b\b\b\b\b\b\r1/1 [==============================] - 0s 26ms/step - loss: 0.1211 - lr: 0.0010\n",
            "Epoch 84/100\n",
            "1/1 [==============================] - ETA: 0s - loss: 0.1339"
          ]
        },
        {
          "output_type": "stream",
          "name": "stderr",
          "text": [
            "WARNING:tensorflow:Early stopping conditioned on metric `train_loss` which is not available. Available metrics are: loss\n",
            "WARNING:tensorflow:Learning rate reduction is conditioned on metric `train_loss` which is not available. Available metrics are: loss,lr\n",
            "WARNING:tensorflow:Can save best model only with train_loss available, skipping.\n"
          ]
        },
        {
          "output_type": "stream",
          "name": "stdout",
          "text": [
            "\b\b\b\b\b\b\b\b\b\b\b\b\b\b\b\b\b\b\b\b\b\b\b\b\b\b\b\b\b\b\b\b\b\b\b\b\b\b\b\b\b\b\b\b\b\b\b\b\b\b\b\b\b\b\b\b\b\b\b\b\b\r1/1 [==============================] - 0s 38ms/step - loss: 0.1339 - lr: 0.0010\n",
            "Epoch 85/100\n",
            "1/1 [==============================] - ETA: 0s - loss: 0.1345"
          ]
        },
        {
          "output_type": "stream",
          "name": "stderr",
          "text": [
            "WARNING:tensorflow:Early stopping conditioned on metric `train_loss` which is not available. Available metrics are: loss\n",
            "WARNING:tensorflow:Learning rate reduction is conditioned on metric `train_loss` which is not available. Available metrics are: loss,lr\n",
            "WARNING:tensorflow:Can save best model only with train_loss available, skipping.\n"
          ]
        },
        {
          "output_type": "stream",
          "name": "stdout",
          "text": [
            "\b\b\b\b\b\b\b\b\b\b\b\b\b\b\b\b\b\b\b\b\b\b\b\b\b\b\b\b\b\b\b\b\b\b\b\b\b\b\b\b\b\b\b\b\b\b\b\b\b\b\b\b\b\b\b\b\b\b\b\b\b\r1/1 [==============================] - 0s 77ms/step - loss: 0.1345 - lr: 0.0010\n",
            "Epoch 86/100\n",
            "1/1 [==============================] - ETA: 0s - loss: 0.1771"
          ]
        },
        {
          "output_type": "stream",
          "name": "stderr",
          "text": [
            "WARNING:tensorflow:Early stopping conditioned on metric `train_loss` which is not available. Available metrics are: loss\n",
            "WARNING:tensorflow:Learning rate reduction is conditioned on metric `train_loss` which is not available. Available metrics are: loss,lr\n",
            "WARNING:tensorflow:Can save best model only with train_loss available, skipping.\n"
          ]
        },
        {
          "output_type": "stream",
          "name": "stdout",
          "text": [
            "\b\b\b\b\b\b\b\b\b\b\b\b\b\b\b\b\b\b\b\b\b\b\b\b\b\b\b\b\b\b\b\b\b\b\b\b\b\b\b\b\b\b\b\b\b\b\b\b\b\b\b\b\b\b\b\b\b\b\b\b\b\r1/1 [==============================] - 0s 32ms/step - loss: 0.1771 - lr: 0.0010\n",
            "Epoch 87/100\n",
            "1/1 [==============================] - ETA: 0s - loss: 0.1354"
          ]
        },
        {
          "output_type": "stream",
          "name": "stderr",
          "text": [
            "WARNING:tensorflow:Early stopping conditioned on metric `train_loss` which is not available. Available metrics are: loss\n",
            "WARNING:tensorflow:Learning rate reduction is conditioned on metric `train_loss` which is not available. Available metrics are: loss,lr\n",
            "WARNING:tensorflow:Can save best model only with train_loss available, skipping.\n"
          ]
        },
        {
          "output_type": "stream",
          "name": "stdout",
          "text": [
            "\b\b\b\b\b\b\b\b\b\b\b\b\b\b\b\b\b\b\b\b\b\b\b\b\b\b\b\b\b\b\b\b\b\b\b\b\b\b\b\b\b\b\b\b\b\b\b\b\b\b\b\b\b\b\b\b\b\b\b\b\b\r1/1 [==============================] - 0s 25ms/step - loss: 0.1354 - lr: 0.0010\n",
            "Epoch 88/100\n",
            "1/1 [==============================] - ETA: 0s - loss: 0.1294"
          ]
        },
        {
          "output_type": "stream",
          "name": "stderr",
          "text": [
            "WARNING:tensorflow:Early stopping conditioned on metric `train_loss` which is not available. Available metrics are: loss\n",
            "WARNING:tensorflow:Learning rate reduction is conditioned on metric `train_loss` which is not available. Available metrics are: loss,lr\n",
            "WARNING:tensorflow:Can save best model only with train_loss available, skipping.\n"
          ]
        },
        {
          "output_type": "stream",
          "name": "stdout",
          "text": [
            "\b\b\b\b\b\b\b\b\b\b\b\b\b\b\b\b\b\b\b\b\b\b\b\b\b\b\b\b\b\b\b\b\b\b\b\b\b\b\b\b\b\b\b\b\b\b\b\b\b\b\b\b\b\b\b\b\b\b\b\b\b\r1/1 [==============================] - 0s 40ms/step - loss: 0.1294 - lr: 0.0010\n",
            "Epoch 89/100\n",
            "1/1 [==============================] - ETA: 0s - loss: 0.1125"
          ]
        },
        {
          "output_type": "stream",
          "name": "stderr",
          "text": [
            "WARNING:tensorflow:Early stopping conditioned on metric `train_loss` which is not available. Available metrics are: loss\n",
            "WARNING:tensorflow:Learning rate reduction is conditioned on metric `train_loss` which is not available. Available metrics are: loss,lr\n",
            "WARNING:tensorflow:Can save best model only with train_loss available, skipping.\n"
          ]
        },
        {
          "output_type": "stream",
          "name": "stdout",
          "text": [
            "\b\b\b\b\b\b\b\b\b\b\b\b\b\b\b\b\b\b\b\b\b\b\b\b\b\b\b\b\b\b\b\b\b\b\b\b\b\b\b\b\b\b\b\b\b\b\b\b\b\b\b\b\b\b\b\b\b\b\b\b\b\r1/1 [==============================] - 0s 36ms/step - loss: 0.1125 - lr: 0.0010\n",
            "Epoch 90/100\n",
            "1/1 [==============================] - ETA: 0s - loss: 0.1271"
          ]
        },
        {
          "output_type": "stream",
          "name": "stderr",
          "text": [
            "WARNING:tensorflow:Early stopping conditioned on metric `train_loss` which is not available. Available metrics are: loss\n",
            "WARNING:tensorflow:Learning rate reduction is conditioned on metric `train_loss` which is not available. Available metrics are: loss,lr\n",
            "WARNING:tensorflow:Can save best model only with train_loss available, skipping.\n"
          ]
        },
        {
          "output_type": "stream",
          "name": "stdout",
          "text": [
            "\b\b\b\b\b\b\b\b\b\b\b\b\b\b\b\b\b\b\b\b\b\b\b\b\b\b\b\b\b\b\b\b\b\b\b\b\b\b\b\b\b\b\b\b\b\b\b\b\b\b\b\b\b\b\b\b\b\b\b\b\b\r1/1 [==============================] - 0s 33ms/step - loss: 0.1271 - lr: 0.0010\n",
            "Epoch 91/100\n",
            "1/1 [==============================] - ETA: 0s - loss: 0.1259"
          ]
        },
        {
          "output_type": "stream",
          "name": "stderr",
          "text": [
            "WARNING:tensorflow:Early stopping conditioned on metric `train_loss` which is not available. Available metrics are: loss\n",
            "WARNING:tensorflow:Learning rate reduction is conditioned on metric `train_loss` which is not available. Available metrics are: loss,lr\n",
            "WARNING:tensorflow:Can save best model only with train_loss available, skipping.\n"
          ]
        },
        {
          "output_type": "stream",
          "name": "stdout",
          "text": [
            "\b\b\b\b\b\b\b\b\b\b\b\b\b\b\b\b\b\b\b\b\b\b\b\b\b\b\b\b\b\b\b\b\b\b\b\b\b\b\b\b\b\b\b\b\b\b\b\b\b\b\b\b\b\b\b\b\b\b\b\b\b\r1/1 [==============================] - 0s 29ms/step - loss: 0.1259 - lr: 0.0010\n",
            "Epoch 92/100\n",
            "1/1 [==============================] - ETA: 0s - loss: 0.1236"
          ]
        },
        {
          "output_type": "stream",
          "name": "stderr",
          "text": [
            "WARNING:tensorflow:Early stopping conditioned on metric `train_loss` which is not available. Available metrics are: loss\n",
            "WARNING:tensorflow:Learning rate reduction is conditioned on metric `train_loss` which is not available. Available metrics are: loss,lr\n",
            "WARNING:tensorflow:Can save best model only with train_loss available, skipping.\n"
          ]
        },
        {
          "output_type": "stream",
          "name": "stdout",
          "text": [
            "\b\b\b\b\b\b\b\b\b\b\b\b\b\b\b\b\b\b\b\b\b\b\b\b\b\b\b\b\b\b\b\b\b\b\b\b\b\b\b\b\b\b\b\b\b\b\b\b\b\b\b\b\b\b\b\b\b\b\b\b\b\r1/1 [==============================] - 0s 30ms/step - loss: 0.1236 - lr: 0.0010\n",
            "Epoch 93/100\n",
            "1/1 [==============================] - ETA: 0s - loss: 0.1255"
          ]
        },
        {
          "output_type": "stream",
          "name": "stderr",
          "text": [
            "WARNING:tensorflow:Early stopping conditioned on metric `train_loss` which is not available. Available metrics are: loss\n",
            "WARNING:tensorflow:Learning rate reduction is conditioned on metric `train_loss` which is not available. Available metrics are: loss,lr\n",
            "WARNING:tensorflow:Can save best model only with train_loss available, skipping.\n"
          ]
        },
        {
          "output_type": "stream",
          "name": "stdout",
          "text": [
            "\b\b\b\b\b\b\b\b\b\b\b\b\b\b\b\b\b\b\b\b\b\b\b\b\b\b\b\b\b\b\b\b\b\b\b\b\b\b\b\b\b\b\b\b\b\b\b\b\b\b\b\b\b\b\b\b\b\b\b\b\b\r1/1 [==============================] - 0s 24ms/step - loss: 0.1255 - lr: 0.0010\n",
            "Epoch 94/100\n",
            "1/1 [==============================] - ETA: 0s - loss: 0.1210"
          ]
        },
        {
          "output_type": "stream",
          "name": "stderr",
          "text": [
            "WARNING:tensorflow:Early stopping conditioned on metric `train_loss` which is not available. Available metrics are: loss\n",
            "WARNING:tensorflow:Learning rate reduction is conditioned on metric `train_loss` which is not available. Available metrics are: loss,lr\n",
            "WARNING:tensorflow:Can save best model only with train_loss available, skipping.\n"
          ]
        },
        {
          "output_type": "stream",
          "name": "stdout",
          "text": [
            "\b\b\b\b\b\b\b\b\b\b\b\b\b\b\b\b\b\b\b\b\b\b\b\b\b\b\b\b\b\b\b\b\b\b\b\b\b\b\b\b\b\b\b\b\b\b\b\b\b\b\b\b\b\b\b\b\b\b\b\b\b\r1/1 [==============================] - 0s 29ms/step - loss: 0.1210 - lr: 0.0010\n",
            "Epoch 95/100\n",
            "1/1 [==============================] - ETA: 0s - loss: 0.1241"
          ]
        },
        {
          "output_type": "stream",
          "name": "stderr",
          "text": [
            "WARNING:tensorflow:Early stopping conditioned on metric `train_loss` which is not available. Available metrics are: loss\n",
            "WARNING:tensorflow:Learning rate reduction is conditioned on metric `train_loss` which is not available. Available metrics are: loss,lr\n",
            "WARNING:tensorflow:Can save best model only with train_loss available, skipping.\n"
          ]
        },
        {
          "output_type": "stream",
          "name": "stdout",
          "text": [
            "\b\b\b\b\b\b\b\b\b\b\b\b\b\b\b\b\b\b\b\b\b\b\b\b\b\b\b\b\b\b\b\b\b\b\b\b\b\b\b\b\b\b\b\b\b\b\b\b\b\b\b\b\b\b\b\b\b\b\b\b\b\r1/1 [==============================] - 0s 35ms/step - loss: 0.1241 - lr: 0.0010\n",
            "Epoch 96/100\n",
            "1/1 [==============================] - ETA: 0s - loss: 0.1317"
          ]
        },
        {
          "output_type": "stream",
          "name": "stderr",
          "text": [
            "WARNING:tensorflow:Early stopping conditioned on metric `train_loss` which is not available. Available metrics are: loss\n",
            "WARNING:tensorflow:Learning rate reduction is conditioned on metric `train_loss` which is not available. Available metrics are: loss,lr\n",
            "WARNING:tensorflow:Can save best model only with train_loss available, skipping.\n"
          ]
        },
        {
          "output_type": "stream",
          "name": "stdout",
          "text": [
            "\b\b\b\b\b\b\b\b\b\b\b\b\b\b\b\b\b\b\b\b\b\b\b\b\b\b\b\b\b\b\b\b\b\b\b\b\b\b\b\b\b\b\b\b\b\b\b\b\b\b\b\b\b\b\b\b\b\b\b\b\b\r1/1 [==============================] - 0s 37ms/step - loss: 0.1317 - lr: 0.0010\n",
            "Epoch 97/100\n",
            "1/1 [==============================] - ETA: 0s - loss: 0.1158"
          ]
        },
        {
          "output_type": "stream",
          "name": "stderr",
          "text": [
            "WARNING:tensorflow:Early stopping conditioned on metric `train_loss` which is not available. Available metrics are: loss\n",
            "WARNING:tensorflow:Learning rate reduction is conditioned on metric `train_loss` which is not available. Available metrics are: loss,lr\n",
            "WARNING:tensorflow:Can save best model only with train_loss available, skipping.\n"
          ]
        },
        {
          "output_type": "stream",
          "name": "stdout",
          "text": [
            "\b\b\b\b\b\b\b\b\b\b\b\b\b\b\b\b\b\b\b\b\b\b\b\b\b\b\b\b\b\b\b\b\b\b\b\b\b\b\b\b\b\b\b\b\b\b\b\b\b\b\b\b\b\b\b\b\b\b\b\b\b\r1/1 [==============================] - 0s 27ms/step - loss: 0.1158 - lr: 0.0010\n",
            "Epoch 98/100\n",
            "1/1 [==============================] - ETA: 0s - loss: 0.1324"
          ]
        },
        {
          "output_type": "stream",
          "name": "stderr",
          "text": [
            "WARNING:tensorflow:Early stopping conditioned on metric `train_loss` which is not available. Available metrics are: loss\n",
            "WARNING:tensorflow:Learning rate reduction is conditioned on metric `train_loss` which is not available. Available metrics are: loss,lr\n",
            "WARNING:tensorflow:Can save best model only with train_loss available, skipping.\n"
          ]
        },
        {
          "output_type": "stream",
          "name": "stdout",
          "text": [
            "\b\b\b\b\b\b\b\b\b\b\b\b\b\b\b\b\b\b\b\b\b\b\b\b\b\b\b\b\b\b\b\b\b\b\b\b\b\b\b\b\b\b\b\b\b\b\b\b\b\b\b\b\b\b\b\b\b\b\b\b\b\r1/1 [==============================] - 0s 30ms/step - loss: 0.1324 - lr: 0.0010\n",
            "Epoch 99/100\n",
            "1/1 [==============================] - ETA: 0s - loss: 0.1143"
          ]
        },
        {
          "output_type": "stream",
          "name": "stderr",
          "text": [
            "WARNING:tensorflow:Early stopping conditioned on metric `train_loss` which is not available. Available metrics are: loss\n",
            "WARNING:tensorflow:Learning rate reduction is conditioned on metric `train_loss` which is not available. Available metrics are: loss,lr\n",
            "WARNING:tensorflow:Can save best model only with train_loss available, skipping.\n"
          ]
        },
        {
          "output_type": "stream",
          "name": "stdout",
          "text": [
            "\b\b\b\b\b\b\b\b\b\b\b\b\b\b\b\b\b\b\b\b\b\b\b\b\b\b\b\b\b\b\b\b\b\b\b\b\b\b\b\b\b\b\b\b\b\b\b\b\b\b\b\b\b\b\b\b\b\b\b\b\b\r1/1 [==============================] - 0s 27ms/step - loss: 0.1143 - lr: 0.0010\n",
            "Epoch 100/100\n",
            "1/1 [==============================] - ETA: 0s - loss: 0.1219"
          ]
        },
        {
          "output_type": "stream",
          "name": "stderr",
          "text": [
            "WARNING:tensorflow:Early stopping conditioned on metric `train_loss` which is not available. Available metrics are: loss\n",
            "WARNING:tensorflow:Learning rate reduction is conditioned on metric `train_loss` which is not available. Available metrics are: loss,lr\n",
            "WARNING:tensorflow:Can save best model only with train_loss available, skipping.\n"
          ]
        },
        {
          "output_type": "stream",
          "name": "stdout",
          "text": [
            "\b\b\b\b\b\b\b\b\b\b\b\b\b\b\b\b\b\b\b\b\b\b\b\b\b\b\b\b\b\b\b\b\b\b\b\b\b\b\b\b\b\b\b\b\b\b\b\b\b\b\b\b\b\b\b\b\b\b\b\b\b\r1/1 [==============================] - 0s 16ms/step - loss: 0.1219 - lr: 0.0010\n"
          ]
        },
        {
          "output_type": "execute_result",
          "data": {
            "text/plain": [
              "<keras.src.callbacks.History at 0x785e27757e20>"
            ]
          },
          "metadata": {},
          "execution_count": 329
        }
      ]
    },
    {
      "cell_type": "code",
      "source": [
        "model.save(\"bestmodel.h5\")"
      ],
      "metadata": {
        "colab": {
          "base_uri": "https://localhost:8080/"
        },
        "id": "4EEfwiONWWIq",
        "outputId": "bc3bf7a6-23a4-4c31-db87-f1475a2d9902"
      },
      "execution_count": 330,
      "outputs": [
        {
          "output_type": "stream",
          "name": "stderr",
          "text": [
            "/usr/local/lib/python3.10/dist-packages/keras/src/engine/training.py:3079: UserWarning: You are saving your model as an HDF5 file via `model.save()`. This file format is considered legacy. We recommend using instead the native Keras format, e.g. `model.save('my_model.keras')`.\n",
            "  saving_api.save_model(\n"
          ]
        }
      ]
    },
    {
      "cell_type": "code",
      "source": [
        "month_data2 = tf.convert_to_tensor(month_data2, dtype=tf.float32)\n",
        "receipt_count_data2 = tf.convert_to_tensor(receipt_count_data2, dtype=tf.float32)\n",
        "test_loss = model.evaluate(month_data2, receipt_count_data2, verbose=0)\n",
        "print(\"Test Loss:\", test_loss)"
      ],
      "metadata": {
        "colab": {
          "base_uri": "https://localhost:8080/"
        },
        "id": "idzUjhLyGbgC",
        "outputId": "f854ad07-5508-41a3-fa52-2e2b765f6750"
      },
      "execution_count": 331,
      "outputs": [
        {
          "output_type": "stream",
          "name": "stderr",
          "text": [
            "WARNING:tensorflow:6 out of the last 6 calls to <function Model.make_test_function.<locals>.test_function at 0x785e40cb4700> triggered tf.function retracing. Tracing is expensive and the excessive number of tracings could be due to (1) creating @tf.function repeatedly in a loop, (2) passing tensors with different shapes, (3) passing Python objects instead of tensors. For (1), please define your @tf.function outside of the loop. For (2), @tf.function has reduce_retracing=True option that can avoid unnecessary retracing. For (3), please refer to https://www.tensorflow.org/guide/function#controlling_retracing and https://www.tensorflow.org/api_docs/python/tf/function for  more details.\n"
          ]
        },
        {
          "output_type": "stream",
          "name": "stdout",
          "text": [
            "Test Loss: 0.015393317677080631\n"
          ]
        }
      ]
    },
    {
      "cell_type": "code",
      "source": [],
      "metadata": {
        "id": "81aBRM6lhTEY"
      },
      "execution_count": 331,
      "outputs": []
    }
  ]
}